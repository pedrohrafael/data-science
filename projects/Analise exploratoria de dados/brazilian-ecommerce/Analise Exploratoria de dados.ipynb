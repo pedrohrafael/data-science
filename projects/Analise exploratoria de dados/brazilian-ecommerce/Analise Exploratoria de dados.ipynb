{
 "cells": [
  {
   "cell_type": "markdown",
   "metadata": {},
   "source": [
    "# Analise exploratória dos dados de comércio eletronico Brasileiro\n",
    "\n",
    "Este é um conjunto de dados público de comércio eletrônico brasileiro de pedidos feitos na Olist Store. O conjunto de dados contém informações de 100 mil pedidos de 2016 a 2018 realizados em diversos mercados no Brasil.\n",
    "\n",
    "https://www.kaggle.com/olistbr/brazilian-ecommerce"
   ]
  },
  {
   "cell_type": "markdown",
   "metadata": {},
   "source": [
    "## Objetivos\n",
    "* Entendimento geral de negócio\n",
    "* Tratamento de valores ausentes (missing values)\n",
    "* Tratamento de pontos fora da curva (outliers)\n",
    "* Análise univariada\n",
    "* Análise multivariada\n",
    "* Geração de insights\n",
    "* [Validação e testes de hipóteses]()"
   ]
  },
  {
   "cell_type": "markdown",
   "metadata": {},
   "source": [
    "## Importando bibliotecas utilizadas na análise"
   ]
  },
  {
   "cell_type": "code",
   "execution_count": 1,
   "metadata": {},
   "outputs": [],
   "source": [
    "%matplotlib inline\n",
    "\n",
    "import pandas as pd\n",
    "pd.set_option('display.max_columns',None)\n",
    "\n",
    "import numpy as np\n",
    "import matplotlib.pyplot as plt\n",
    "import seaborn as sns\n",
    "import os\n",
    "\n",
    "import warnings\n",
    "warnings.filterwarnings('ignore')"
   ]
  },
  {
   "cell_type": "markdown",
   "metadata": {},
   "source": [
    "## Importando os dados\n",
    "\n",
    "As informações de metadados podem ser encontradas [aqui]().\n",
    "\n",
    "__Schema:__\n",
    "\n",
    "![](https://i.imgur.com/HRhd2Y0.png)"
   ]
  },
  {
   "cell_type": "code",
   "execution_count": 2,
   "metadata": {},
   "outputs": [],
   "source": [
    "# definindo o caminho do diretorio com os arquivos de origem dos dados\n",
    "raw_path = '../brazilian-ecommerce/data/raw/'\n",
    "\n",
    "# listando os arquivos do diretorio\n",
    "files = os.listdir(raw_path)\n",
    "\n",
    "datasets = []\n",
    "\n",
    "# criando dataframes a partir dos arquivos\n",
    "for file in files:\n",
    "    dataset = file.replace('.csv', '')\n",
    "    dataframe = pd.read_csv(raw_path + file)\n",
    "    datasets.append(dataset)\n",
    "    globals()[dataset] = dataframe   "
   ]
  },
  {
   "cell_type": "code",
   "execution_count": 3,
   "metadata": {},
   "outputs": [
    {
     "data": {
      "text/plain": [
       "['olist_customers_dataset',\n",
       " 'olist_geolocation_dataset',\n",
       " 'olist_order_items_dataset',\n",
       " 'olist_order_payments_dataset',\n",
       " 'olist_order_reviews_dataset',\n",
       " 'olist_orders_dataset',\n",
       " 'olist_products_dataset',\n",
       " 'olist_sellers_dataset',\n",
       " 'product_category_name_translation']"
      ]
     },
     "execution_count": 3,
     "metadata": {},
     "output_type": "execute_result"
    }
   ],
   "source": [
    "# visualizando os datasets disponiveis\n",
    "datasets"
   ]
  },
  {
   "cell_type": "code",
   "execution_count": 4,
   "metadata": {},
   "outputs": [
    {
     "ename": "NameError",
     "evalue": "name 'a' is not defined",
     "output_type": "error",
     "traceback": [
      "\u001b[1;31m---------------------------------------------------------------------------\u001b[0m",
      "\u001b[1;31mNameError\u001b[0m                                 Traceback (most recent call last)",
      "\u001b[1;32m<ipython-input-4-3f786850e387>\u001b[0m in \u001b[0;36m<module>\u001b[1;34m\u001b[0m\n\u001b[1;32m----> 1\u001b[1;33m \u001b[0ma\u001b[0m\u001b[1;33m\u001b[0m\u001b[1;33m\u001b[0m\u001b[0m\n\u001b[0m",
      "\u001b[1;31mNameError\u001b[0m: name 'a' is not defined"
     ]
    }
   ],
   "source": [
    "a"
   ]
  },
  {
   "cell_type": "code",
   "execution_count": null,
   "metadata": {},
   "outputs": [],
   "source": [
    "Combined_2 = pd.merge(Orders, Order_items, left_on='order_id', right_on='order_id')\n",
    "Combined_2 = Combined_2.merge(Order_payments, on ='order_id')\n",
    "Combined_2 = Combined_2.merge(Order_reviews, on ='order_id')\n",
    "Combined_2 = Combined_2.merge(Customers, on ='customer_id')\n",
    "Combined_2 = Combined_2.merge(Sellers, on ='seller_id')\n",
    "Combined_2 = Combined_2.merge(Products, on ='product_id')\n",
    "Combined_2 = Combined_2.merge(Product_category_name, on ='product_category_name')"
   ]
  }
 ],
 "metadata": {
  "kernelspec": {
   "display_name": "Python 3",
   "language": "python",
   "name": "python3"
  },
  "language_info": {
   "codemirror_mode": {
    "name": "ipython",
    "version": 3
   },
   "file_extension": ".py",
   "mimetype": "text/x-python",
   "name": "python",
   "nbconvert_exporter": "python",
   "pygments_lexer": "ipython3",
   "version": "3.7.6"
  }
 },
 "nbformat": 4,
 "nbformat_minor": 4
}
