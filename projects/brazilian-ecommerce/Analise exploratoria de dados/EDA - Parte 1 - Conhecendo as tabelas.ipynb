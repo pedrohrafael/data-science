{
 "cells": [
  {
   "cell_type": "markdown",
   "metadata": {},
   "source": [
    "# Analise exploratória dos dados de comércio eletronico Brasileiro\n",
    "\n",
    "Este é um conjunto de dados público de comércio eletrônico brasileiro de pedidos feitos na Olist Store. O conjunto de dados contém informações de 100 mil pedidos de 2016 a 2018 realizados em diversos mercados no Brasil.\n",
    "\n",
    "https://www.kaggle.com/olistbr/brazilian-ecommerce"
   ]
  },
  {
   "cell_type": "markdown",
   "metadata": {},
   "source": [
    "# Parte 1\n",
    "## Objetivos\n",
    "* Explorar e conhecer as tabelas do conjunto de dados\n",
    "* Realizar os relacionamentos das tabelas"
   ]
  },
  {
   "cell_type": "markdown",
   "metadata": {},
   "source": [
    "## Objetivos\n",
    "* Entendimento geral de negócio\n",
    "* Tratamento de valores ausentes (missing values)\n",
    "* Tratamento de pontos fora da curva (outliers)\n",
    "* Análise univariada\n",
    "* Análise multivariada\n",
    "* Geração de insights\n",
    "* [Validação e testes de hipóteses]()"
   ]
  },
  {
   "cell_type": "markdown",
   "metadata": {},
   "source": [
    "---\n",
    "## Importando bibliotecas utilizadas na análise"
   ]
  },
  {
   "cell_type": "code",
   "execution_count": 1,
   "metadata": {},
   "outputs": [],
   "source": [
    "%matplotlib inline\n",
    "\n",
    "import pandas as pd\n",
    "pd.set_option('display.max_columns',None)\n",
    "\n",
    "import numpy as np\n",
    "import matplotlib.pyplot as plt\n",
    "import seaborn as sns\n",
    "sns.set_theme()\n",
    "\n",
    "import os\n",
    "import warnings\n",
    "warnings.filterwarnings('ignore')"
   ]
  },
  {
   "cell_type": "markdown",
   "metadata": {},
   "source": [
    "---\n",
    "## Importando os dados\n",
    "\n",
    "__Schema:__\n",
    "\n",
    "![](https://i.imgur.com/HRhd2Y0.png)"
   ]
  },
  {
   "cell_type": "markdown",
   "metadata": {},
   "source": [
    "* __olist_orders_dataset :__ Tabela principal, usada para conectar todos os detalhes relacionados a um pedido de compra.\n",
    "* __olist_order_items_dataset :__ Contém os detalhes de um item que foi comprado.\n",
    "* __olist_order_reviews_dataset :__ Contém detalhes relacionados a quaisquer comentários postados pelo cliente sobre um determinado produto.\n",
    "* __olist_products_dataset :__ Contém informações relacionadas a um produto.\n",
    "* __olist_order_payments_dataset :__ Contém informações relacionadas aos detalhes de pagamento.\n",
    "* __olist_customers_dataset :__ Contém informações de clientes.\n",
    "* __olist_geolocation_dataset :__ Contém informações geográficas relacionadas aos vendedores e clientes.\n",
    "* __olist_sellers_dataset :__ Contém informações relativas a todos os vendedores que se cadastraram nesta empresa."
   ]
  },
  {
   "cell_type": "code",
   "execution_count": 133,
   "metadata": {},
   "outputs": [],
   "source": [
    "# definindo o caminho do diretorio com os arquivos de origem dos dados\n",
    "raw_path = 'G:/Meu Drive/Carreira/Estudos/Data Science/4 - Projetos/data-science/projects/brazilian-ecommerce/data/raw/'\n",
    "\n",
    "# listando os arquivos do diretorio\n",
    "files = os.listdir(raw_path)\n",
    "\n",
    "datasets = []\n",
    "\n",
    "# criando dataframes a partir dos arquivos\n",
    "for file in files:\n",
    "    dataset_name = file.replace('.csv', '')\n",
    "    dataframe = pd.read_csv(raw_path + file)\n",
    "    datasets.append(dataset_name)\n",
    "    globals()[dataset_name] = dataframe"
   ]
  },
  {
   "cell_type": "markdown",
   "metadata": {},
   "source": [
    "---\n",
    "## Analisando e relacionando as tabelas\n",
    "\n",
    "__Premissas gerais:__\n",
    "* Um pedido (ordem) pode ter vários itens.\n",
    "* Cada item pode ser atendido por um vendedor distinto.\n",
    "* Todo o texto que identifica as lojas e parceiros foi substituído pelos nomes das grandes casas de Game of Thrones."
   ]
  },
  {
   "cell_type": "markdown",
   "metadata": {},
   "source": [
    "### Analisando a tabela principal: \n",
    "#### olist_orders_dataset\n",
    "\n",
    "* __order_id__: Identificador exclusivo do pedido\n",
    "* __customer_id__: Chave para o conjunto de dados do cliente. Cada pedido tem um cliente exclusivo.\n",
    "* __order_status__:   Referência ao status do pedido (entregue, enviado, etc).\n",
    "* __order_purchase_timestamp__:   Mostra o registro de data e hora da compra.\n",
    "* __order_approved_at__: Mostra o registro de data e hora de aprovação de pagamento.\n",
    "* __order_delivered_carrier_date__:  Mostra o cartão posterior de data e hora. Quando foi tratado para o parceiro logístico.\n",
    "* __order_delivered_customer_date__: Mostra a data real de entrega de pedidos para o cliente.\n",
    "* __order_estimated_delivery_date__: Mostra a data de entrega estimada informada ao cliente no momento da compra."
   ]
  },
  {
   "cell_type": "code",
   "execution_count": 108,
   "metadata": {},
   "outputs": [
    {
     "name": "stdout",
     "output_type": "stream",
     "text": [
      "<class 'pandas.core.frame.DataFrame'>\n",
      "RangeIndex: 99441 entries, 0 to 99440\n",
      "Data columns (total 8 columns):\n",
      " #   Column                         Non-Null Count  Dtype \n",
      "---  ------                         --------------  ----- \n",
      " 0   order_id                       99441 non-null  object\n",
      " 1   customer_id                    99441 non-null  object\n",
      " 2   order_status                   99441 non-null  object\n",
      " 3   order_purchase_timestamp       99441 non-null  object\n",
      " 4   order_approved_at              99281 non-null  object\n",
      " 5   order_delivered_carrier_date   97658 non-null  object\n",
      " 6   order_delivered_customer_date  96476 non-null  object\n",
      " 7   order_estimated_delivery_date  99441 non-null  object\n",
      "dtypes: object(8)\n",
      "memory usage: 6.1+ MB\n"
     ]
    }
   ],
   "source": [
    "olist_orders_dataset.info()"
   ]
  },
  {
   "cell_type": "code",
   "execution_count": 5,
   "metadata": {},
   "outputs": [
    {
     "data": {
      "text/html": [
       "<div>\n",
       "<style scoped>\n",
       "    .dataframe tbody tr th:only-of-type {\n",
       "        vertical-align: middle;\n",
       "    }\n",
       "\n",
       "    .dataframe tbody tr th {\n",
       "        vertical-align: top;\n",
       "    }\n",
       "\n",
       "    .dataframe thead th {\n",
       "        text-align: right;\n",
       "    }\n",
       "</style>\n",
       "<table border=\"1\" class=\"dataframe\">\n",
       "  <thead>\n",
       "    <tr style=\"text-align: right;\">\n",
       "      <th></th>\n",
       "      <th>order_id</th>\n",
       "      <th>customer_id</th>\n",
       "      <th>order_status</th>\n",
       "      <th>order_purchase_timestamp</th>\n",
       "      <th>order_approved_at</th>\n",
       "      <th>order_delivered_carrier_date</th>\n",
       "      <th>order_delivered_customer_date</th>\n",
       "      <th>order_estimated_delivery_date</th>\n",
       "    </tr>\n",
       "  </thead>\n",
       "  <tbody>\n",
       "    <tr>\n",
       "      <th>count</th>\n",
       "      <td>99441</td>\n",
       "      <td>99441</td>\n",
       "      <td>99441</td>\n",
       "      <td>99441</td>\n",
       "      <td>99281</td>\n",
       "      <td>97658</td>\n",
       "      <td>96476</td>\n",
       "      <td>99441</td>\n",
       "    </tr>\n",
       "    <tr>\n",
       "      <th>unique</th>\n",
       "      <td>99441</td>\n",
       "      <td>99441</td>\n",
       "      <td>8</td>\n",
       "      <td>98875</td>\n",
       "      <td>90733</td>\n",
       "      <td>81018</td>\n",
       "      <td>95664</td>\n",
       "      <td>459</td>\n",
       "    </tr>\n",
       "    <tr>\n",
       "      <th>top</th>\n",
       "      <td>44cf3a952d8e1d64780add94ffd74dfe</td>\n",
       "      <td>4382a843aa3bf7571f81732d6262bc41</td>\n",
       "      <td>delivered</td>\n",
       "      <td>2018-04-11 10:48:14</td>\n",
       "      <td>2018-02-27 04:31:10</td>\n",
       "      <td>2018-05-09 15:48:00</td>\n",
       "      <td>2018-07-24 21:36:42</td>\n",
       "      <td>2017-12-20 00:00:00</td>\n",
       "    </tr>\n",
       "    <tr>\n",
       "      <th>freq</th>\n",
       "      <td>1</td>\n",
       "      <td>1</td>\n",
       "      <td>96478</td>\n",
       "      <td>3</td>\n",
       "      <td>9</td>\n",
       "      <td>47</td>\n",
       "      <td>3</td>\n",
       "      <td>522</td>\n",
       "    </tr>\n",
       "  </tbody>\n",
       "</table>\n",
       "</div>"
      ],
      "text/plain": [
       "                                order_id                       customer_id  \\\n",
       "count                              99441                             99441   \n",
       "unique                             99441                             99441   \n",
       "top     44cf3a952d8e1d64780add94ffd74dfe  4382a843aa3bf7571f81732d6262bc41   \n",
       "freq                                   1                                 1   \n",
       "\n",
       "       order_status order_purchase_timestamp    order_approved_at  \\\n",
       "count         99441                    99441                99281   \n",
       "unique            8                    98875                90733   \n",
       "top       delivered      2018-04-11 10:48:14  2018-02-27 04:31:10   \n",
       "freq          96478                        3                    9   \n",
       "\n",
       "       order_delivered_carrier_date order_delivered_customer_date  \\\n",
       "count                         97658                         96476   \n",
       "unique                        81018                         95664   \n",
       "top             2018-05-09 15:48:00           2018-07-24 21:36:42   \n",
       "freq                             47                             3   \n",
       "\n",
       "       order_estimated_delivery_date  \n",
       "count                          99441  \n",
       "unique                           459  \n",
       "top              2017-12-20 00:00:00  \n",
       "freq                             522  "
      ]
     },
     "execution_count": 5,
     "metadata": {},
     "output_type": "execute_result"
    }
   ],
   "source": [
    "olist_orders_dataset.describe()"
   ]
  },
  {
   "cell_type": "markdown",
   "metadata": {},
   "source": [
    "`Verificando quais são os 8 diferentes status possíveis e suas frequencias:`"
   ]
  },
  {
   "cell_type": "code",
   "execution_count": 85,
   "metadata": {},
   "outputs": [],
   "source": [
    "count_status = olist_orders_dataset.groupby('order_status') \\\n",
    "                                   .agg({'order_id':'count'}) \\\n",
    "                                   .sort_values(by='order_id', ascending=False) \\\n",
    "                                   .reset_index().rename(columns={'order_id':'Qtd', 'order_status' : 'Status'})"
   ]
  },
  {
   "cell_type": "code",
   "execution_count": 66,
   "metadata": {},
   "outputs": [
    {
     "data": {
      "image/png": "[encoded data removed]",
      "text/plain": [
       "<Figure size 720x360 with 1 Axes>"
      ]
     },
     "metadata": {},
     "output_type": "display_data"
    }
   ],
   "source": [
    "total = count_status.Qtd.sum()\n",
    "\n",
    "figure = plt.figure(figsize=(10,5))\n",
    "ax = sns.barplot(data = count_status, x= 'Status', y= 'Qtd')\n",
    "ax.set_title(\"Frequencia dos pedidos por status | Total = {}\".format(total));"
   ]
  },
  {
   "cell_type": "code",
   "execution_count": 86,
   "metadata": {},
   "outputs": [
    {
     "data": {
      "image/png": "[encoded data removed]",
      "text/plain": [
       "<Figure size 720x360 with 1 Axes>"
      ]
     },
     "metadata": {},
     "output_type": "display_data"
    }
   ],
   "source": [
    "count_status_not_delivered = count_status.query(\"Status!='delivered'\")\n",
    "total_not_delivered = count_status_without_delivered.Qtd.sum()\n",
    "\n",
    "figure = plt.figure(figsize=(10,5))\n",
    "ax = sns.barplot(data = count_status_not_delivered , x= 'Status', y= 'Qtd')\n",
    "ax.set_title(\"Frequencia dos pedidos não entregues por status | Total = {}\".format(total_not_delivered));"
   ]
  },
  {
   "cell_type": "code",
   "execution_count": 72,
   "metadata": {},
   "outputs": [
    {
     "name": "stdout",
     "output_type": "stream",
     "text": [
      "Percentual de pedidos não entregues: 2.98%\n"
     ]
    }
   ],
   "source": [
    "percentage_not_delivered = total_not_delivered / total\n",
    "\n",
    "print(\"Percentual de pedidos não entregues: {:.2%}\".format(percentage_not_delivered))"
   ]
  },
  {
   "cell_type": "markdown",
   "metadata": {},
   "source": [
    "> Como os **pedidos entregues representam 97% do total** de registros da base, iremos considerar apenas esses pedidos na análise."
   ]
  },
  {
   "cell_type": "code",
   "execution_count": 97,
   "metadata": {},
   "outputs": [],
   "source": [
    "orders_delivered = olist_orders_dataset[olist_orders_dataset.order_status=='delivered']"
   ]
  },
  {
   "cell_type": "markdown",
   "metadata": {},
   "source": [
    "`Vamos aproveitar e relacionar com a tabela de clientes para obter as informações de localidade dos clientes`"
   ]
  },
  {
   "cell_type": "code",
   "execution_count": 170,
   "metadata": {},
   "outputs": [],
   "source": [
    "orders_delivered = pd.merge(orders_delivered, olist_customers_dataset[['customer_id', 'customer_unique_id', 'customer_city', 'customer_state']], on='customer_id')"
   ]
  },
  {
   "cell_type": "markdown",
   "metadata": {},
   "source": [
    "#### olist_order_payments_dataset"
   ]
  },
  {
   "cell_type": "markdown",
   "metadata": {},
   "source": [
    "Este conjunto de dados inclui dados sobre as opções de pagamento de pedidos.\n",
    "\n",
    "**Campos**\n",
    "* **order_id** : Identificador exclusivo de um pedido.\n",
    "* **payment_sequential** : Um cliente pode pagar um pedido com mais de um método de pagamento. Se ele fizer isso, uma sequência será criada.\n",
    "* **payment_type** : Método de pagamento escolhido pelo cliente.\n",
    "* **payment_installments** : Número de parcelas escolhido pelo cliente.\n",
    "* **payment_value** : Valor da transação."
   ]
  },
  {
   "cell_type": "code",
   "execution_count": 144,
   "metadata": {},
   "outputs": [
    {
     "name": "stdout",
     "output_type": "stream",
     "text": [
      "<class 'pandas.core.frame.DataFrame'>\n",
      "RangeIndex: 103886 entries, 0 to 103885\n",
      "Data columns (total 5 columns):\n",
      " #   Column                Non-Null Count   Dtype  \n",
      "---  ------                --------------   -----  \n",
      " 0   order_id              103886 non-null  object \n",
      " 1   payment_sequential    103886 non-null  int64  \n",
      " 2   payment_type          103886 non-null  object \n",
      " 3   payment_installments  103886 non-null  int64  \n",
      " 4   payment_value         103886 non-null  float64\n",
      "dtypes: float64(1), int64(2), object(2)\n",
      "memory usage: 4.0+ MB\n"
     ]
    }
   ],
   "source": [
    "olist_order_payments_dataset.info()"
   ]
  },
  {
   "cell_type": "code",
   "execution_count": 152,
   "metadata": {},
   "outputs": [
    {
     "data": {
      "text/html": [
       "<div>\n",
       "<style scoped>\n",
       "    .dataframe tbody tr th:only-of-type {\n",
       "        vertical-align: middle;\n",
       "    }\n",
       "\n",
       "    .dataframe tbody tr th {\n",
       "        vertical-align: top;\n",
       "    }\n",
       "\n",
       "    .dataframe thead th {\n",
       "        text-align: right;\n",
       "    }\n",
       "</style>\n",
       "<table border=\"1\" class=\"dataframe\">\n",
       "  <thead>\n",
       "    <tr style=\"text-align: right;\">\n",
       "      <th></th>\n",
       "      <th>order_id</th>\n",
       "      <th>payment_sequential</th>\n",
       "      <th>payment_type</th>\n",
       "      <th>payment_installments</th>\n",
       "      <th>payment_value</th>\n",
       "    </tr>\n",
       "  </thead>\n",
       "  <tbody>\n",
       "    <tr>\n",
       "      <th>81380</th>\n",
       "      <td>3dbcc6a75a92370a581e5b39efdc1b0d</td>\n",
       "      <td>1</td>\n",
       "      <td>credit_card</td>\n",
       "      <td>2</td>\n",
       "      <td>62.00</td>\n",
       "    </tr>\n",
       "    <tr>\n",
       "      <th>42036</th>\n",
       "      <td>230c3aecc2d5f855e6dd4ce8a98ecf13</td>\n",
       "      <td>1</td>\n",
       "      <td>credit_card</td>\n",
       "      <td>4</td>\n",
       "      <td>40.85</td>\n",
       "    </tr>\n",
       "    <tr>\n",
       "      <th>9371</th>\n",
       "      <td>98b71d23b2914a171ca5c5824a1d38b1</td>\n",
       "      <td>1</td>\n",
       "      <td>credit_card</td>\n",
       "      <td>4</td>\n",
       "      <td>43.00</td>\n",
       "    </tr>\n",
       "    <tr>\n",
       "      <th>38197</th>\n",
       "      <td>91d3db538cfff9a4f1cd5d5ad9481b05</td>\n",
       "      <td>2</td>\n",
       "      <td>voucher</td>\n",
       "      <td>1</td>\n",
       "      <td>11.00</td>\n",
       "    </tr>\n",
       "    <tr>\n",
       "      <th>15117</th>\n",
       "      <td>73d7cec3155fd7d97f4e7bd0c996002e</td>\n",
       "      <td>1</td>\n",
       "      <td>boleto</td>\n",
       "      <td>1</td>\n",
       "      <td>59.09</td>\n",
       "    </tr>\n",
       "  </tbody>\n",
       "</table>\n",
       "</div>"
      ],
      "text/plain": [
       "                               order_id  payment_sequential payment_type  \\\n",
       "81380  3dbcc6a75a92370a581e5b39efdc1b0d                   1  credit_card   \n",
       "42036  230c3aecc2d5f855e6dd4ce8a98ecf13                   1  credit_card   \n",
       "9371   98b71d23b2914a171ca5c5824a1d38b1                   1  credit_card   \n",
       "38197  91d3db538cfff9a4f1cd5d5ad9481b05                   2      voucher   \n",
       "15117  73d7cec3155fd7d97f4e7bd0c996002e                   1       boleto   \n",
       "\n",
       "       payment_installments  payment_value  \n",
       "81380                     2          62.00  \n",
       "42036                     4          40.85  \n",
       "9371                      4          43.00  \n",
       "38197                     1          11.00  \n",
       "15117                     1          59.09  "
      ]
     },
     "execution_count": 152,
     "metadata": {},
     "output_type": "execute_result"
    }
   ],
   "source": [
    "olist_order_payments_dataset.sample(5)"
   ]
  },
  {
   "cell_type": "markdown",
   "metadata": {},
   "source": [
    "`Vamos relacionar com a tabela de pagamentos para obter as informações de valores pagos nos pedidos e outros detalhes`\n",
    "> Precisamos considerar que a tabela **olist_order_payments_dataset** se relaciona com a nossa nova tabela principal **orders_delivered** com cardinalidade de N:1, e por tanto, a tabela resultante desse cruzamento NÃO TERÁ o campo **order_id** com valores únicos (não repetidos)."
   ]
  },
  {
   "cell_type": "code",
   "execution_count": 173,
   "metadata": {},
   "outputs": [],
   "source": [
    "final_orders_delivered = pd.merge(orders_delivered, olist_order_payments_dataset, on='order_id')"
   ]
  },
  {
   "cell_type": "markdown",
   "metadata": {},
   "source": [
    "Exemplo de pedido com order_id repetido, pois a compra foi realizada com mais de 1 método de pagamento:"
   ]
  },
  {
   "cell_type": "code",
   "execution_count": 175,
   "metadata": {},
   "outputs": [
    {
     "data": {
      "text/html": [
       "<div>\n",
       "<style scoped>\n",
       "    .dataframe tbody tr th:only-of-type {\n",
       "        vertical-align: middle;\n",
       "    }\n",
       "\n",
       "    .dataframe tbody tr th {\n",
       "        vertical-align: top;\n",
       "    }\n",
       "\n",
       "    .dataframe thead th {\n",
       "        text-align: right;\n",
       "    }\n",
       "</style>\n",
       "<table border=\"1\" class=\"dataframe\">\n",
       "  <thead>\n",
       "    <tr style=\"text-align: right;\">\n",
       "      <th></th>\n",
       "      <th>order_id</th>\n",
       "      <th>customer_id</th>\n",
       "      <th>order_status</th>\n",
       "      <th>order_purchase_timestamp</th>\n",
       "      <th>order_approved_at</th>\n",
       "      <th>order_delivered_carrier_date</th>\n",
       "      <th>order_delivered_customer_date</th>\n",
       "      <th>order_estimated_delivery_date</th>\n",
       "      <th>customer_unique_id</th>\n",
       "      <th>customer_city</th>\n",
       "      <th>customer_state</th>\n",
       "      <th>payment_sequential</th>\n",
       "      <th>payment_type</th>\n",
       "      <th>payment_installments</th>\n",
       "      <th>payment_value</th>\n",
       "    </tr>\n",
       "  </thead>\n",
       "  <tbody>\n",
       "    <tr>\n",
       "      <th>52446</th>\n",
       "      <td>91d3db538cfff9a4f1cd5d5ad9481b05</td>\n",
       "      <td>93398976408677d44139e085d01c41a3</td>\n",
       "      <td>delivered</td>\n",
       "      <td>2018-02-01 16:32:15</td>\n",
       "      <td>2018-02-01 16:57:04</td>\n",
       "      <td>2018-02-05 11:06:03</td>\n",
       "      <td>2018-02-06 23:52:10</td>\n",
       "      <td>2018-02-19 00:00:00</td>\n",
       "      <td>a1501121525014a1ff9d8247bcdf1e7e</td>\n",
       "      <td>sao paulo</td>\n",
       "      <td>SP</td>\n",
       "      <td>1</td>\n",
       "      <td>credit_card</td>\n",
       "      <td>1</td>\n",
       "      <td>4.68</td>\n",
       "    </tr>\n",
       "    <tr>\n",
       "      <th>52447</th>\n",
       "      <td>91d3db538cfff9a4f1cd5d5ad9481b05</td>\n",
       "      <td>93398976408677d44139e085d01c41a3</td>\n",
       "      <td>delivered</td>\n",
       "      <td>2018-02-01 16:32:15</td>\n",
       "      <td>2018-02-01 16:57:04</td>\n",
       "      <td>2018-02-05 11:06:03</td>\n",
       "      <td>2018-02-06 23:52:10</td>\n",
       "      <td>2018-02-19 00:00:00</td>\n",
       "      <td>a1501121525014a1ff9d8247bcdf1e7e</td>\n",
       "      <td>sao paulo</td>\n",
       "      <td>SP</td>\n",
       "      <td>2</td>\n",
       "      <td>voucher</td>\n",
       "      <td>1</td>\n",
       "      <td>11.00</td>\n",
       "    </tr>\n",
       "    <tr>\n",
       "      <th>52448</th>\n",
       "      <td>91d3db538cfff9a4f1cd5d5ad9481b05</td>\n",
       "      <td>93398976408677d44139e085d01c41a3</td>\n",
       "      <td>delivered</td>\n",
       "      <td>2018-02-01 16:32:15</td>\n",
       "      <td>2018-02-01 16:57:04</td>\n",
       "      <td>2018-02-05 11:06:03</td>\n",
       "      <td>2018-02-06 23:52:10</td>\n",
       "      <td>2018-02-19 00:00:00</td>\n",
       "      <td>a1501121525014a1ff9d8247bcdf1e7e</td>\n",
       "      <td>sao paulo</td>\n",
       "      <td>SP</td>\n",
       "      <td>3</td>\n",
       "      <td>voucher</td>\n",
       "      <td>1</td>\n",
       "      <td>9.94</td>\n",
       "    </tr>\n",
       "  </tbody>\n",
       "</table>\n",
       "</div>"
      ],
      "text/plain": [
       "                               order_id                       customer_id  \\\n",
       "52446  91d3db538cfff9a4f1cd5d5ad9481b05  93398976408677d44139e085d01c41a3   \n",
       "52447  91d3db538cfff9a4f1cd5d5ad9481b05  93398976408677d44139e085d01c41a3   \n",
       "52448  91d3db538cfff9a4f1cd5d5ad9481b05  93398976408677d44139e085d01c41a3   \n",
       "\n",
       "      order_status order_purchase_timestamp    order_approved_at  \\\n",
       "52446    delivered      2018-02-01 16:32:15  2018-02-01 16:57:04   \n",
       "52447    delivered      2018-02-01 16:32:15  2018-02-01 16:57:04   \n",
       "52448    delivered      2018-02-01 16:32:15  2018-02-01 16:57:04   \n",
       "\n",
       "      order_delivered_carrier_date order_delivered_customer_date  \\\n",
       "52446          2018-02-05 11:06:03           2018-02-06 23:52:10   \n",
       "52447          2018-02-05 11:06:03           2018-02-06 23:52:10   \n",
       "52448          2018-02-05 11:06:03           2018-02-06 23:52:10   \n",
       "\n",
       "      order_estimated_delivery_date                customer_unique_id  \\\n",
       "52446           2018-02-19 00:00:00  a1501121525014a1ff9d8247bcdf1e7e   \n",
       "52447           2018-02-19 00:00:00  a1501121525014a1ff9d8247bcdf1e7e   \n",
       "52448           2018-02-19 00:00:00  a1501121525014a1ff9d8247bcdf1e7e   \n",
       "\n",
       "      customer_city customer_state  payment_sequential payment_type  \\\n",
       "52446     sao paulo             SP                   1  credit_card   \n",
       "52447     sao paulo             SP                   2      voucher   \n",
       "52448     sao paulo             SP                   3      voucher   \n",
       "\n",
       "       payment_installments  payment_value  \n",
       "52446                     1           4.68  \n",
       "52447                     1          11.00  \n",
       "52448                     1           9.94  "
      ]
     },
     "execution_count": 175,
     "metadata": {},
     "output_type": "execute_result"
    }
   ],
   "source": [
    "final_orders_delivered.query(\"order_id=='91d3db538cfff9a4f1cd5d5ad9481b05'\")"
   ]
  },
  {
   "cell_type": "markdown",
   "metadata": {},
   "source": [
    "---\n",
    "### Obtendo detalhes sobre os itens dos pedidos"
   ]
  },
  {
   "cell_type": "markdown",
   "metadata": {},
   "source": [
    "#### olist_order_items_dataset"
   ]
  },
  {
   "cell_type": "markdown",
   "metadata": {},
   "source": [
    "**Campos:**\n",
    "\n",
    "* **order_id** : Identificador único do pedido\n",
    "* **order_item_id** :  Número sequencial. Identificando o número de itens incluídos na mesma ordem.\n",
    "* **product_id** :  Identificador exclusivo de Produto\n",
    "* **seller_id** :   Identificador exclusivo do vendedor\n",
    "* **shipping_limit_date** :  Mostra a data limite de envio do vendedor para lidar com a ordem para o parceiro logístico.\n",
    "* **price** : Preço do item\n",
    "* **freight_value** :  Item Item de valor de frete (se um pedido tiver mais de um item, o valor de frete é dividido entre os itens)\n",
    "\n",
    "**Exemplo:**\n",
    "\n",
    "O **order_id = 00143d0f86d6fbd9f9b38ab440ac16f5** tem 3 itens (mesmo produto). \n",
    "Cada item tem o frete calculado de acordo com suas medidas e peso. Para obter o valor total do frete de cada pedido, basta somar.\n",
    "\n",
    "O valor total de **produtos** é: 21.33 * 3 = 63.99\n",
    "\n",
    "O valor total do **frete** é: 15.10 * 3 = 45.30\n",
    "\n",
    "O valor total do **pedido** (produtos + frete) é: 45.30 + 63.99 = 109.29"
   ]
  },
  {
   "cell_type": "code",
   "execution_count": 176,
   "metadata": {},
   "outputs": [
    {
     "data": {
      "text/html": [
       "<div>\n",
       "<style scoped>\n",
       "    .dataframe tbody tr th:only-of-type {\n",
       "        vertical-align: middle;\n",
       "    }\n",
       "\n",
       "    .dataframe tbody tr th {\n",
       "        vertical-align: top;\n",
       "    }\n",
       "\n",
       "    .dataframe thead th {\n",
       "        text-align: right;\n",
       "    }\n",
       "</style>\n",
       "<table border=\"1\" class=\"dataframe\">\n",
       "  <thead>\n",
       "    <tr style=\"text-align: right;\">\n",
       "      <th></th>\n",
       "      <th>order_id</th>\n",
       "      <th>order_item_id</th>\n",
       "      <th>product_id</th>\n",
       "      <th>seller_id</th>\n",
       "      <th>shipping_limit_date</th>\n",
       "      <th>price</th>\n",
       "      <th>freight_value</th>\n",
       "    </tr>\n",
       "  </thead>\n",
       "  <tbody>\n",
       "    <tr>\n",
       "      <th>32</th>\n",
       "      <td>00143d0f86d6fbd9f9b38ab440ac16f5</td>\n",
       "      <td>1</td>\n",
       "      <td>e95ee6822b66ac6058e2e4aff656071a</td>\n",
       "      <td>a17f621c590ea0fab3d5d883e1630ec6</td>\n",
       "      <td>2017-10-20 16:07:52</td>\n",
       "      <td>21.33</td>\n",
       "      <td>15.1</td>\n",
       "    </tr>\n",
       "    <tr>\n",
       "      <th>33</th>\n",
       "      <td>00143d0f86d6fbd9f9b38ab440ac16f5</td>\n",
       "      <td>2</td>\n",
       "      <td>e95ee6822b66ac6058e2e4aff656071a</td>\n",
       "      <td>a17f621c590ea0fab3d5d883e1630ec6</td>\n",
       "      <td>2017-10-20 16:07:52</td>\n",
       "      <td>21.33</td>\n",
       "      <td>15.1</td>\n",
       "    </tr>\n",
       "    <tr>\n",
       "      <th>34</th>\n",
       "      <td>00143d0f86d6fbd9f9b38ab440ac16f5</td>\n",
       "      <td>3</td>\n",
       "      <td>e95ee6822b66ac6058e2e4aff656071a</td>\n",
       "      <td>a17f621c590ea0fab3d5d883e1630ec6</td>\n",
       "      <td>2017-10-20 16:07:52</td>\n",
       "      <td>21.33</td>\n",
       "      <td>15.1</td>\n",
       "    </tr>\n",
       "  </tbody>\n",
       "</table>\n",
       "</div>"
      ],
      "text/plain": [
       "                            order_id  order_item_id  \\\n",
       "32  00143d0f86d6fbd9f9b38ab440ac16f5              1   \n",
       "33  00143d0f86d6fbd9f9b38ab440ac16f5              2   \n",
       "34  00143d0f86d6fbd9f9b38ab440ac16f5              3   \n",
       "\n",
       "                          product_id                         seller_id  \\\n",
       "32  e95ee6822b66ac6058e2e4aff656071a  a17f621c590ea0fab3d5d883e1630ec6   \n",
       "33  e95ee6822b66ac6058e2e4aff656071a  a17f621c590ea0fab3d5d883e1630ec6   \n",
       "34  e95ee6822b66ac6058e2e4aff656071a  a17f621c590ea0fab3d5d883e1630ec6   \n",
       "\n",
       "    shipping_limit_date  price  freight_value  \n",
       "32  2017-10-20 16:07:52  21.33           15.1  \n",
       "33  2017-10-20 16:07:52  21.33           15.1  \n",
       "34  2017-10-20 16:07:52  21.33           15.1  "
      ]
     },
     "execution_count": 176,
     "metadata": {},
     "output_type": "execute_result"
    }
   ],
   "source": [
    "olist_order_items_dataset.query(\"order_id=='00143d0f86d6fbd9f9b38ab440ac16f5'\")"
   ]
  },
  {
   "cell_type": "markdown",
   "metadata": {},
   "source": [
    "**`Vamos relacionar com a tabela de produtos para obter a categoria dos produtos`**"
   ]
  },
  {
   "cell_type": "code",
   "execution_count": 135,
   "metadata": {},
   "outputs": [],
   "source": [
    "orders_items = pd.merge(olist_order_items_dataset, olist_products_dataset[['product_id', 'product_category_name']], on='product_id')"
   ]
  },
  {
   "cell_type": "markdown",
   "metadata": {},
   "source": [
    "**`Agora vamos relacionar com a tabela de vendedores para obter informações de localidade dos vendedores`**"
   ]
  },
  {
   "cell_type": "code",
   "execution_count": 136,
   "metadata": {},
   "outputs": [],
   "source": [
    "orders_items = pd.merge(orders_items, olist_sellers_dataset[['seller_id', 'seller_city', 'seller_state']], on='seller_id')"
   ]
  },
  {
   "cell_type": "markdown",
   "metadata": {},
   "source": [
    "---"
   ]
  },
  {
   "cell_type": "markdown",
   "metadata": {},
   "source": [
    "**Cruzando** a tabela de pedidos entregues (**orders_delivered**) com a tabela de detalhe dos items (**olist_order_items_dataset**)"
   ]
  },
  {
   "cell_type": "markdown",
   "metadata": {},
   "source": [
    "O relacionamento dessas tabelas pode gerar multiplas linhas repetidas, isso porque a cardinalidade desse relacionamento é de N:N.\n",
    "\n",
    "Considerando isso, precisamos avaliar 3 de 4 cenários possíveis:\n",
    "\n",
    "* **Cenário 1:** Pedidos com apenas 1 forma de pagamento e N itens (1:N)\n",
    "* **Cenário 2:** Pedidos com N formas de pagamento e apenas 1 item (N:1)\n",
    "* **Cenário 3:** Pedidos com N formas de pagamento e N itens (N:N)\n",
    "\n",
    "O casos de pedidos com 1 forma de pagamento e 1 item não serão avaliados, pois não irão gerar novas linhas."
   ]
  },
  {
   "cell_type": "markdown",
   "metadata": {},
   "source": [
    "* **Cenário 1:** (1:N)"
   ]
  },
  {
   "cell_type": "code",
   "execution_count": 179,
   "metadata": {},
   "outputs": [
    {
     "data": {
      "text/html": [
       "<div>\n",
       "<style scoped>\n",
       "    .dataframe tbody tr th:only-of-type {\n",
       "        vertical-align: middle;\n",
       "    }\n",
       "\n",
       "    .dataframe tbody tr th {\n",
       "        vertical-align: top;\n",
       "    }\n",
       "\n",
       "    .dataframe thead th {\n",
       "        text-align: right;\n",
       "    }\n",
       "</style>\n",
       "<table border=\"1\" class=\"dataframe\">\n",
       "  <thead>\n",
       "    <tr style=\"text-align: right;\">\n",
       "      <th></th>\n",
       "      <th>order_id</th>\n",
       "      <th>customer_id</th>\n",
       "      <th>order_status</th>\n",
       "      <th>order_purchase_timestamp</th>\n",
       "      <th>order_approved_at</th>\n",
       "      <th>order_delivered_carrier_date</th>\n",
       "      <th>order_delivered_customer_date</th>\n",
       "      <th>order_estimated_delivery_date</th>\n",
       "      <th>customer_unique_id</th>\n",
       "      <th>customer_city</th>\n",
       "      <th>customer_state</th>\n",
       "      <th>payment_sequential</th>\n",
       "      <th>payment_type</th>\n",
       "      <th>payment_installments</th>\n",
       "      <th>payment_value</th>\n",
       "    </tr>\n",
       "  </thead>\n",
       "  <tbody>\n",
       "    <tr>\n",
       "      <th>36813</th>\n",
       "      <td>00143d0f86d6fbd9f9b38ab440ac16f5</td>\n",
       "      <td>2e45292979b9b2700ea09560eeb0f803</td>\n",
       "      <td>delivered</td>\n",
       "      <td>2017-10-16 15:29:43</td>\n",
       "      <td>2017-10-16 16:07:52</td>\n",
       "      <td>2017-10-16 23:04:43</td>\n",
       "      <td>2017-10-27 18:43:56</td>\n",
       "      <td>2017-11-06 00:00:00</td>\n",
       "      <td>bb8a37225e0279ac8a274c9765617eaf</td>\n",
       "      <td>goiania</td>\n",
       "      <td>GO</td>\n",
       "      <td>1</td>\n",
       "      <td>credit_card</td>\n",
       "      <td>1</td>\n",
       "      <td>109.29</td>\n",
       "    </tr>\n",
       "  </tbody>\n",
       "</table>\n",
       "</div>"
      ],
      "text/plain": [
       "                               order_id                       customer_id  \\\n",
       "36813  00143d0f86d6fbd9f9b38ab440ac16f5  2e45292979b9b2700ea09560eeb0f803   \n",
       "\n",
       "      order_status order_purchase_timestamp    order_approved_at  \\\n",
       "36813    delivered      2017-10-16 15:29:43  2017-10-16 16:07:52   \n",
       "\n",
       "      order_delivered_carrier_date order_delivered_customer_date  \\\n",
       "36813          2017-10-16 23:04:43           2017-10-27 18:43:56   \n",
       "\n",
       "      order_estimated_delivery_date                customer_unique_id  \\\n",
       "36813           2017-11-06 00:00:00  bb8a37225e0279ac8a274c9765617eaf   \n",
       "\n",
       "      customer_city customer_state  payment_sequential payment_type  \\\n",
       "36813       goiania             GO                   1  credit_card   \n",
       "\n",
       "       payment_installments  payment_value  \n",
       "36813                     1         109.29  "
      ]
     },
     "execution_count": 179,
     "metadata": {},
     "output_type": "execute_result"
    }
   ],
   "source": [
    "final_orders_delivered.query(\"order_id=='00143d0f86d6fbd9f9b38ab440ac16f5'\")"
   ]
  },
  {
   "cell_type": "code",
   "execution_count": 186,
   "metadata": {},
   "outputs": [
    {
     "data": {
      "text/html": [
       "<div>\n",
       "<style scoped>\n",
       "    .dataframe tbody tr th:only-of-type {\n",
       "        vertical-align: middle;\n",
       "    }\n",
       "\n",
       "    .dataframe tbody tr th {\n",
       "        vertical-align: top;\n",
       "    }\n",
       "\n",
       "    .dataframe thead th {\n",
       "        text-align: right;\n",
       "    }\n",
       "</style>\n",
       "<table border=\"1\" class=\"dataframe\">\n",
       "  <thead>\n",
       "    <tr style=\"text-align: right;\">\n",
       "      <th></th>\n",
       "      <th>order_id</th>\n",
       "      <th>order_item_id</th>\n",
       "      <th>product_id</th>\n",
       "      <th>seller_id</th>\n",
       "      <th>shipping_limit_date</th>\n",
       "      <th>price</th>\n",
       "      <th>freight_value</th>\n",
       "      <th>product_category_name</th>\n",
       "      <th>seller_city</th>\n",
       "      <th>seller_state</th>\n",
       "    </tr>\n",
       "  </thead>\n",
       "  <tbody>\n",
       "    <tr>\n",
       "      <th>14494</th>\n",
       "      <td>00143d0f86d6fbd9f9b38ab440ac16f5</td>\n",
       "      <td>1</td>\n",
       "      <td>e95ee6822b66ac6058e2e4aff656071a</td>\n",
       "      <td>a17f621c590ea0fab3d5d883e1630ec6</td>\n",
       "      <td>2017-10-20 16:07:52</td>\n",
       "      <td>21.33</td>\n",
       "      <td>15.1</td>\n",
       "      <td>esporte_lazer</td>\n",
       "      <td>sorocaba</td>\n",
       "      <td>SP</td>\n",
       "    </tr>\n",
       "    <tr>\n",
       "      <th>14495</th>\n",
       "      <td>00143d0f86d6fbd9f9b38ab440ac16f5</td>\n",
       "      <td>2</td>\n",
       "      <td>e95ee6822b66ac6058e2e4aff656071a</td>\n",
       "      <td>a17f621c590ea0fab3d5d883e1630ec6</td>\n",
       "      <td>2017-10-20 16:07:52</td>\n",
       "      <td>21.33</td>\n",
       "      <td>15.1</td>\n",
       "      <td>esporte_lazer</td>\n",
       "      <td>sorocaba</td>\n",
       "      <td>SP</td>\n",
       "    </tr>\n",
       "    <tr>\n",
       "      <th>14496</th>\n",
       "      <td>00143d0f86d6fbd9f9b38ab440ac16f5</td>\n",
       "      <td>3</td>\n",
       "      <td>e95ee6822b66ac6058e2e4aff656071a</td>\n",
       "      <td>a17f621c590ea0fab3d5d883e1630ec6</td>\n",
       "      <td>2017-10-20 16:07:52</td>\n",
       "      <td>21.33</td>\n",
       "      <td>15.1</td>\n",
       "      <td>esporte_lazer</td>\n",
       "      <td>sorocaba</td>\n",
       "      <td>SP</td>\n",
       "    </tr>\n",
       "  </tbody>\n",
       "</table>\n",
       "</div>"
      ],
      "text/plain": [
       "                               order_id  order_item_id  \\\n",
       "14494  00143d0f86d6fbd9f9b38ab440ac16f5              1   \n",
       "14495  00143d0f86d6fbd9f9b38ab440ac16f5              2   \n",
       "14496  00143d0f86d6fbd9f9b38ab440ac16f5              3   \n",
       "\n",
       "                             product_id                         seller_id  \\\n",
       "14494  e95ee6822b66ac6058e2e4aff656071a  a17f621c590ea0fab3d5d883e1630ec6   \n",
       "14495  e95ee6822b66ac6058e2e4aff656071a  a17f621c590ea0fab3d5d883e1630ec6   \n",
       "14496  e95ee6822b66ac6058e2e4aff656071a  a17f621c590ea0fab3d5d883e1630ec6   \n",
       "\n",
       "       shipping_limit_date  price  freight_value product_category_name  \\\n",
       "14494  2017-10-20 16:07:52  21.33           15.1         esporte_lazer   \n",
       "14495  2017-10-20 16:07:52  21.33           15.1         esporte_lazer   \n",
       "14496  2017-10-20 16:07:52  21.33           15.1         esporte_lazer   \n",
       "\n",
       "      seller_city seller_state  \n",
       "14494    sorocaba           SP  \n",
       "14495    sorocaba           SP  \n",
       "14496    sorocaba           SP  "
      ]
     },
     "execution_count": 186,
     "metadata": {},
     "output_type": "execute_result"
    }
   ],
   "source": [
    "orders_items.query(\"order_id=='00143d0f86d6fbd9f9b38ab440ac16f5'\")"
   ]
  },
  {
   "cell_type": "code",
   "execution_count": 190,
   "metadata": {},
   "outputs": [
    {
     "data": {
      "text/html": [
       "<div>\n",
       "<style scoped>\n",
       "    .dataframe tbody tr th:only-of-type {\n",
       "        vertical-align: middle;\n",
       "    }\n",
       "\n",
       "    .dataframe tbody tr th {\n",
       "        vertical-align: top;\n",
       "    }\n",
       "\n",
       "    .dataframe thead th {\n",
       "        text-align: right;\n",
       "    }\n",
       "</style>\n",
       "<table border=\"1\" class=\"dataframe\">\n",
       "  <thead>\n",
       "    <tr style=\"text-align: right;\">\n",
       "      <th></th>\n",
       "      <th>order_id</th>\n",
       "      <th>customer_id</th>\n",
       "      <th>order_status</th>\n",
       "      <th>order_purchase_timestamp</th>\n",
       "      <th>order_approved_at</th>\n",
       "      <th>order_delivered_carrier_date</th>\n",
       "      <th>order_delivered_customer_date</th>\n",
       "      <th>order_estimated_delivery_date</th>\n",
       "      <th>customer_unique_id</th>\n",
       "      <th>customer_city</th>\n",
       "      <th>customer_state</th>\n",
       "      <th>payment_sequential</th>\n",
       "      <th>payment_type</th>\n",
       "      <th>payment_installments</th>\n",
       "      <th>payment_value</th>\n",
       "      <th>order_item_id</th>\n",
       "      <th>product_id</th>\n",
       "      <th>seller_id</th>\n",
       "      <th>shipping_limit_date</th>\n",
       "      <th>price</th>\n",
       "      <th>freight_value</th>\n",
       "      <th>product_category_name</th>\n",
       "      <th>seller_city</th>\n",
       "      <th>seller_state</th>\n",
       "    </tr>\n",
       "  </thead>\n",
       "  <tbody>\n",
       "    <tr>\n",
       "      <th>41983</th>\n",
       "      <td>00143d0f86d6fbd9f9b38ab440ac16f5</td>\n",
       "      <td>2e45292979b9b2700ea09560eeb0f803</td>\n",
       "      <td>delivered</td>\n",
       "      <td>2017-10-16 15:29:43</td>\n",
       "      <td>2017-10-16 16:07:52</td>\n",
       "      <td>2017-10-16 23:04:43</td>\n",
       "      <td>2017-10-27 18:43:56</td>\n",
       "      <td>2017-11-06 00:00:00</td>\n",
       "      <td>bb8a37225e0279ac8a274c9765617eaf</td>\n",
       "      <td>goiania</td>\n",
       "      <td>GO</td>\n",
       "      <td>1</td>\n",
       "      <td>credit_card</td>\n",
       "      <td>1</td>\n",
       "      <td>109.29</td>\n",
       "      <td>1</td>\n",
       "      <td>e95ee6822b66ac6058e2e4aff656071a</td>\n",
       "      <td>a17f621c590ea0fab3d5d883e1630ec6</td>\n",
       "      <td>2017-10-20 16:07:52</td>\n",
       "      <td>21.33</td>\n",
       "      <td>15.1</td>\n",
       "      <td>esporte_lazer</td>\n",
       "      <td>sorocaba</td>\n",
       "      <td>SP</td>\n",
       "    </tr>\n",
       "    <tr>\n",
       "      <th>41984</th>\n",
       "      <td>00143d0f86d6fbd9f9b38ab440ac16f5</td>\n",
       "      <td>2e45292979b9b2700ea09560eeb0f803</td>\n",
       "      <td>delivered</td>\n",
       "      <td>2017-10-16 15:29:43</td>\n",
       "      <td>2017-10-16 16:07:52</td>\n",
       "      <td>2017-10-16 23:04:43</td>\n",
       "      <td>2017-10-27 18:43:56</td>\n",
       "      <td>2017-11-06 00:00:00</td>\n",
       "      <td>bb8a37225e0279ac8a274c9765617eaf</td>\n",
       "      <td>goiania</td>\n",
       "      <td>GO</td>\n",
       "      <td>1</td>\n",
       "      <td>credit_card</td>\n",
       "      <td>1</td>\n",
       "      <td>109.29</td>\n",
       "      <td>2</td>\n",
       "      <td>e95ee6822b66ac6058e2e4aff656071a</td>\n",
       "      <td>a17f621c590ea0fab3d5d883e1630ec6</td>\n",
       "      <td>2017-10-20 16:07:52</td>\n",
       "      <td>21.33</td>\n",
       "      <td>15.1</td>\n",
       "      <td>esporte_lazer</td>\n",
       "      <td>sorocaba</td>\n",
       "      <td>SP</td>\n",
       "    </tr>\n",
       "    <tr>\n",
       "      <th>41985</th>\n",
       "      <td>00143d0f86d6fbd9f9b38ab440ac16f5</td>\n",
       "      <td>2e45292979b9b2700ea09560eeb0f803</td>\n",
       "      <td>delivered</td>\n",
       "      <td>2017-10-16 15:29:43</td>\n",
       "      <td>2017-10-16 16:07:52</td>\n",
       "      <td>2017-10-16 23:04:43</td>\n",
       "      <td>2017-10-27 18:43:56</td>\n",
       "      <td>2017-11-06 00:00:00</td>\n",
       "      <td>bb8a37225e0279ac8a274c9765617eaf</td>\n",
       "      <td>goiania</td>\n",
       "      <td>GO</td>\n",
       "      <td>1</td>\n",
       "      <td>credit_card</td>\n",
       "      <td>1</td>\n",
       "      <td>109.29</td>\n",
       "      <td>3</td>\n",
       "      <td>e95ee6822b66ac6058e2e4aff656071a</td>\n",
       "      <td>a17f621c590ea0fab3d5d883e1630ec6</td>\n",
       "      <td>2017-10-20 16:07:52</td>\n",
       "      <td>21.33</td>\n",
       "      <td>15.1</td>\n",
       "      <td>esporte_lazer</td>\n",
       "      <td>sorocaba</td>\n",
       "      <td>SP</td>\n",
       "    </tr>\n",
       "  </tbody>\n",
       "</table>\n",
       "</div>"
      ],
      "text/plain": [
       "                               order_id                       customer_id  \\\n",
       "41983  00143d0f86d6fbd9f9b38ab440ac16f5  2e45292979b9b2700ea09560eeb0f803   \n",
       "41984  00143d0f86d6fbd9f9b38ab440ac16f5  2e45292979b9b2700ea09560eeb0f803   \n",
       "41985  00143d0f86d6fbd9f9b38ab440ac16f5  2e45292979b9b2700ea09560eeb0f803   \n",
       "\n",
       "      order_status order_purchase_timestamp    order_approved_at  \\\n",
       "41983    delivered      2017-10-16 15:29:43  2017-10-16 16:07:52   \n",
       "41984    delivered      2017-10-16 15:29:43  2017-10-16 16:07:52   \n",
       "41985    delivered      2017-10-16 15:29:43  2017-10-16 16:07:52   \n",
       "\n",
       "      order_delivered_carrier_date order_delivered_customer_date  \\\n",
       "41983          2017-10-16 23:04:43           2017-10-27 18:43:56   \n",
       "41984          2017-10-16 23:04:43           2017-10-27 18:43:56   \n",
       "41985          2017-10-16 23:04:43           2017-10-27 18:43:56   \n",
       "\n",
       "      order_estimated_delivery_date                customer_unique_id  \\\n",
       "41983           2017-11-06 00:00:00  bb8a37225e0279ac8a274c9765617eaf   \n",
       "41984           2017-11-06 00:00:00  bb8a37225e0279ac8a274c9765617eaf   \n",
       "41985           2017-11-06 00:00:00  bb8a37225e0279ac8a274c9765617eaf   \n",
       "\n",
       "      customer_city customer_state  payment_sequential payment_type  \\\n",
       "41983       goiania             GO                   1  credit_card   \n",
       "41984       goiania             GO                   1  credit_card   \n",
       "41985       goiania             GO                   1  credit_card   \n",
       "\n",
       "       payment_installments  payment_value  order_item_id  \\\n",
       "41983                     1         109.29              1   \n",
       "41984                     1         109.29              2   \n",
       "41985                     1         109.29              3   \n",
       "\n",
       "                             product_id                         seller_id  \\\n",
       "41983  e95ee6822b66ac6058e2e4aff656071a  a17f621c590ea0fab3d5d883e1630ec6   \n",
       "41984  e95ee6822b66ac6058e2e4aff656071a  a17f621c590ea0fab3d5d883e1630ec6   \n",
       "41985  e95ee6822b66ac6058e2e4aff656071a  a17f621c590ea0fab3d5d883e1630ec6   \n",
       "\n",
       "       shipping_limit_date  price  freight_value product_category_name  \\\n",
       "41983  2017-10-20 16:07:52  21.33           15.1         esporte_lazer   \n",
       "41984  2017-10-20 16:07:52  21.33           15.1         esporte_lazer   \n",
       "41985  2017-10-20 16:07:52  21.33           15.1         esporte_lazer   \n",
       "\n",
       "      seller_city seller_state  \n",
       "41983    sorocaba           SP  \n",
       "41984    sorocaba           SP  \n",
       "41985    sorocaba           SP  "
      ]
     },
     "execution_count": 190,
     "metadata": {},
     "output_type": "execute_result"
    }
   ],
   "source": [
    "pd.merge(final_orders_delivered, orders_items, on='order_id').query(\"order_id=='00143d0f86d6fbd9f9b38ab440ac16f5'\")"
   ]
  },
  {
   "cell_type": "markdown",
   "metadata": {},
   "source": [
    "COMMENTS"
   ]
  },
  {
   "cell_type": "markdown",
   "metadata": {},
   "source": [
    "* **Cenário 2:** (N:1)"
   ]
  },
  {
   "cell_type": "code",
   "execution_count": 185,
   "metadata": {},
   "outputs": [
    {
     "data": {
      "text/html": [
       "<div>\n",
       "<style scoped>\n",
       "    .dataframe tbody tr th:only-of-type {\n",
       "        vertical-align: middle;\n",
       "    }\n",
       "\n",
       "    .dataframe tbody tr th {\n",
       "        vertical-align: top;\n",
       "    }\n",
       "\n",
       "    .dataframe thead th {\n",
       "        text-align: right;\n",
       "    }\n",
       "</style>\n",
       "<table border=\"1\" class=\"dataframe\">\n",
       "  <thead>\n",
       "    <tr style=\"text-align: right;\">\n",
       "      <th></th>\n",
       "      <th>order_id</th>\n",
       "      <th>customer_id</th>\n",
       "      <th>order_status</th>\n",
       "      <th>order_purchase_timestamp</th>\n",
       "      <th>order_approved_at</th>\n",
       "      <th>order_delivered_carrier_date</th>\n",
       "      <th>order_delivered_customer_date</th>\n",
       "      <th>order_estimated_delivery_date</th>\n",
       "      <th>customer_unique_id</th>\n",
       "      <th>customer_city</th>\n",
       "      <th>customer_state</th>\n",
       "      <th>payment_sequential</th>\n",
       "      <th>payment_type</th>\n",
       "      <th>payment_installments</th>\n",
       "      <th>payment_value</th>\n",
       "    </tr>\n",
       "  </thead>\n",
       "  <tbody>\n",
       "    <tr>\n",
       "      <th>52446</th>\n",
       "      <td>91d3db538cfff9a4f1cd5d5ad9481b05</td>\n",
       "      <td>93398976408677d44139e085d01c41a3</td>\n",
       "      <td>delivered</td>\n",
       "      <td>2018-02-01 16:32:15</td>\n",
       "      <td>2018-02-01 16:57:04</td>\n",
       "      <td>2018-02-05 11:06:03</td>\n",
       "      <td>2018-02-06 23:52:10</td>\n",
       "      <td>2018-02-19 00:00:00</td>\n",
       "      <td>a1501121525014a1ff9d8247bcdf1e7e</td>\n",
       "      <td>sao paulo</td>\n",
       "      <td>SP</td>\n",
       "      <td>1</td>\n",
       "      <td>credit_card</td>\n",
       "      <td>1</td>\n",
       "      <td>4.68</td>\n",
       "    </tr>\n",
       "    <tr>\n",
       "      <th>52447</th>\n",
       "      <td>91d3db538cfff9a4f1cd5d5ad9481b05</td>\n",
       "      <td>93398976408677d44139e085d01c41a3</td>\n",
       "      <td>delivered</td>\n",
       "      <td>2018-02-01 16:32:15</td>\n",
       "      <td>2018-02-01 16:57:04</td>\n",
       "      <td>2018-02-05 11:06:03</td>\n",
       "      <td>2018-02-06 23:52:10</td>\n",
       "      <td>2018-02-19 00:00:00</td>\n",
       "      <td>a1501121525014a1ff9d8247bcdf1e7e</td>\n",
       "      <td>sao paulo</td>\n",
       "      <td>SP</td>\n",
       "      <td>2</td>\n",
       "      <td>voucher</td>\n",
       "      <td>1</td>\n",
       "      <td>11.00</td>\n",
       "    </tr>\n",
       "    <tr>\n",
       "      <th>52448</th>\n",
       "      <td>91d3db538cfff9a4f1cd5d5ad9481b05</td>\n",
       "      <td>93398976408677d44139e085d01c41a3</td>\n",
       "      <td>delivered</td>\n",
       "      <td>2018-02-01 16:32:15</td>\n",
       "      <td>2018-02-01 16:57:04</td>\n",
       "      <td>2018-02-05 11:06:03</td>\n",
       "      <td>2018-02-06 23:52:10</td>\n",
       "      <td>2018-02-19 00:00:00</td>\n",
       "      <td>a1501121525014a1ff9d8247bcdf1e7e</td>\n",
       "      <td>sao paulo</td>\n",
       "      <td>SP</td>\n",
       "      <td>3</td>\n",
       "      <td>voucher</td>\n",
       "      <td>1</td>\n",
       "      <td>9.94</td>\n",
       "    </tr>\n",
       "  </tbody>\n",
       "</table>\n",
       "</div>"
      ],
      "text/plain": [
       "                               order_id                       customer_id  \\\n",
       "52446  91d3db538cfff9a4f1cd5d5ad9481b05  93398976408677d44139e085d01c41a3   \n",
       "52447  91d3db538cfff9a4f1cd5d5ad9481b05  93398976408677d44139e085d01c41a3   \n",
       "52448  91d3db538cfff9a4f1cd5d5ad9481b05  93398976408677d44139e085d01c41a3   \n",
       "\n",
       "      order_status order_purchase_timestamp    order_approved_at  \\\n",
       "52446    delivered      2018-02-01 16:32:15  2018-02-01 16:57:04   \n",
       "52447    delivered      2018-02-01 16:32:15  2018-02-01 16:57:04   \n",
       "52448    delivered      2018-02-01 16:32:15  2018-02-01 16:57:04   \n",
       "\n",
       "      order_delivered_carrier_date order_delivered_customer_date  \\\n",
       "52446          2018-02-05 11:06:03           2018-02-06 23:52:10   \n",
       "52447          2018-02-05 11:06:03           2018-02-06 23:52:10   \n",
       "52448          2018-02-05 11:06:03           2018-02-06 23:52:10   \n",
       "\n",
       "      order_estimated_delivery_date                customer_unique_id  \\\n",
       "52446           2018-02-19 00:00:00  a1501121525014a1ff9d8247bcdf1e7e   \n",
       "52447           2018-02-19 00:00:00  a1501121525014a1ff9d8247bcdf1e7e   \n",
       "52448           2018-02-19 00:00:00  a1501121525014a1ff9d8247bcdf1e7e   \n",
       "\n",
       "      customer_city customer_state  payment_sequential payment_type  \\\n",
       "52446     sao paulo             SP                   1  credit_card   \n",
       "52447     sao paulo             SP                   2      voucher   \n",
       "52448     sao paulo             SP                   3      voucher   \n",
       "\n",
       "       payment_installments  payment_value  \n",
       "52446                     1           4.68  \n",
       "52447                     1          11.00  \n",
       "52448                     1           9.94  "
      ]
     },
     "execution_count": 185,
     "metadata": {},
     "output_type": "execute_result"
    }
   ],
   "source": [
    "final_orders_delivered.query(\"order_id=='91d3db538cfff9a4f1cd5d5ad9481b05'\")"
   ]
  },
  {
   "cell_type": "code",
   "execution_count": 191,
   "metadata": {},
   "outputs": [
    {
     "data": {
      "text/html": [
       "<div>\n",
       "<style scoped>\n",
       "    .dataframe tbody tr th:only-of-type {\n",
       "        vertical-align: middle;\n",
       "    }\n",
       "\n",
       "    .dataframe tbody tr th {\n",
       "        vertical-align: top;\n",
       "    }\n",
       "\n",
       "    .dataframe thead th {\n",
       "        text-align: right;\n",
       "    }\n",
       "</style>\n",
       "<table border=\"1\" class=\"dataframe\">\n",
       "  <thead>\n",
       "    <tr style=\"text-align: right;\">\n",
       "      <th></th>\n",
       "      <th>order_id</th>\n",
       "      <th>order_item_id</th>\n",
       "      <th>product_id</th>\n",
       "      <th>seller_id</th>\n",
       "      <th>shipping_limit_date</th>\n",
       "      <th>price</th>\n",
       "      <th>freight_value</th>\n",
       "      <th>product_category_name</th>\n",
       "      <th>seller_city</th>\n",
       "      <th>seller_state</th>\n",
       "    </tr>\n",
       "  </thead>\n",
       "  <tbody>\n",
       "    <tr>\n",
       "      <th>83125</th>\n",
       "      <td>91d3db538cfff9a4f1cd5d5ad9481b05</td>\n",
       "      <td>1</td>\n",
       "      <td>ec246911ea63f94a11fc8d78c270153f</td>\n",
       "      <td>febab0275244b9a49a623f0bd613ca2f</td>\n",
       "      <td>2018-02-07 16:57:04</td>\n",
       "      <td>16.9</td>\n",
       "      <td>8.72</td>\n",
       "      <td>instrumentos_musicais</td>\n",
       "      <td>pedreira</td>\n",
       "      <td>SP</td>\n",
       "    </tr>\n",
       "  </tbody>\n",
       "</table>\n",
       "</div>"
      ],
      "text/plain": [
       "                               order_id  order_item_id  \\\n",
       "83125  91d3db538cfff9a4f1cd5d5ad9481b05              1   \n",
       "\n",
       "                             product_id                         seller_id  \\\n",
       "83125  ec246911ea63f94a11fc8d78c270153f  febab0275244b9a49a623f0bd613ca2f   \n",
       "\n",
       "       shipping_limit_date  price  freight_value  product_category_name  \\\n",
       "83125  2018-02-07 16:57:04   16.9           8.72  instrumentos_musicais   \n",
       "\n",
       "      seller_city seller_state  \n",
       "83125    pedreira           SP  "
      ]
     },
     "execution_count": 191,
     "metadata": {},
     "output_type": "execute_result"
    }
   ],
   "source": [
    "orders_items.query(\"order_id=='91d3db538cfff9a4f1cd5d5ad9481b05'\")"
   ]
  },
  {
   "cell_type": "code",
   "execution_count": 192,
   "metadata": {},
   "outputs": [
    {
     "data": {
      "text/html": [
       "<div>\n",
       "<style scoped>\n",
       "    .dataframe tbody tr th:only-of-type {\n",
       "        vertical-align: middle;\n",
       "    }\n",
       "\n",
       "    .dataframe tbody tr th {\n",
       "        vertical-align: top;\n",
       "    }\n",
       "\n",
       "    .dataframe thead th {\n",
       "        text-align: right;\n",
       "    }\n",
       "</style>\n",
       "<table border=\"1\" class=\"dataframe\">\n",
       "  <thead>\n",
       "    <tr style=\"text-align: right;\">\n",
       "      <th></th>\n",
       "      <th>order_id</th>\n",
       "      <th>customer_id</th>\n",
       "      <th>order_status</th>\n",
       "      <th>order_purchase_timestamp</th>\n",
       "      <th>order_approved_at</th>\n",
       "      <th>order_delivered_carrier_date</th>\n",
       "      <th>order_delivered_customer_date</th>\n",
       "      <th>order_estimated_delivery_date</th>\n",
       "      <th>customer_unique_id</th>\n",
       "      <th>customer_city</th>\n",
       "      <th>customer_state</th>\n",
       "      <th>payment_sequential</th>\n",
       "      <th>payment_type</th>\n",
       "      <th>payment_installments</th>\n",
       "      <th>payment_value</th>\n",
       "      <th>order_item_id</th>\n",
       "      <th>product_id</th>\n",
       "      <th>seller_id</th>\n",
       "      <th>shipping_limit_date</th>\n",
       "      <th>price</th>\n",
       "      <th>freight_value</th>\n",
       "      <th>product_category_name</th>\n",
       "      <th>seller_city</th>\n",
       "      <th>seller_state</th>\n",
       "    </tr>\n",
       "  </thead>\n",
       "  <tbody>\n",
       "    <tr>\n",
       "      <th>59784</th>\n",
       "      <td>91d3db538cfff9a4f1cd5d5ad9481b05</td>\n",
       "      <td>93398976408677d44139e085d01c41a3</td>\n",
       "      <td>delivered</td>\n",
       "      <td>2018-02-01 16:32:15</td>\n",
       "      <td>2018-02-01 16:57:04</td>\n",
       "      <td>2018-02-05 11:06:03</td>\n",
       "      <td>2018-02-06 23:52:10</td>\n",
       "      <td>2018-02-19 00:00:00</td>\n",
       "      <td>a1501121525014a1ff9d8247bcdf1e7e</td>\n",
       "      <td>sao paulo</td>\n",
       "      <td>SP</td>\n",
       "      <td>1</td>\n",
       "      <td>credit_card</td>\n",
       "      <td>1</td>\n",
       "      <td>4.68</td>\n",
       "      <td>1</td>\n",
       "      <td>ec246911ea63f94a11fc8d78c270153f</td>\n",
       "      <td>febab0275244b9a49a623f0bd613ca2f</td>\n",
       "      <td>2018-02-07 16:57:04</td>\n",
       "      <td>16.9</td>\n",
       "      <td>8.72</td>\n",
       "      <td>instrumentos_musicais</td>\n",
       "      <td>pedreira</td>\n",
       "      <td>SP</td>\n",
       "    </tr>\n",
       "    <tr>\n",
       "      <th>59785</th>\n",
       "      <td>91d3db538cfff9a4f1cd5d5ad9481b05</td>\n",
       "      <td>93398976408677d44139e085d01c41a3</td>\n",
       "      <td>delivered</td>\n",
       "      <td>2018-02-01 16:32:15</td>\n",
       "      <td>2018-02-01 16:57:04</td>\n",
       "      <td>2018-02-05 11:06:03</td>\n",
       "      <td>2018-02-06 23:52:10</td>\n",
       "      <td>2018-02-19 00:00:00</td>\n",
       "      <td>a1501121525014a1ff9d8247bcdf1e7e</td>\n",
       "      <td>sao paulo</td>\n",
       "      <td>SP</td>\n",
       "      <td>2</td>\n",
       "      <td>voucher</td>\n",
       "      <td>1</td>\n",
       "      <td>11.00</td>\n",
       "      <td>1</td>\n",
       "      <td>ec246911ea63f94a11fc8d78c270153f</td>\n",
       "      <td>febab0275244b9a49a623f0bd613ca2f</td>\n",
       "      <td>2018-02-07 16:57:04</td>\n",
       "      <td>16.9</td>\n",
       "      <td>8.72</td>\n",
       "      <td>instrumentos_musicais</td>\n",
       "      <td>pedreira</td>\n",
       "      <td>SP</td>\n",
       "    </tr>\n",
       "    <tr>\n",
       "      <th>59786</th>\n",
       "      <td>91d3db538cfff9a4f1cd5d5ad9481b05</td>\n",
       "      <td>93398976408677d44139e085d01c41a3</td>\n",
       "      <td>delivered</td>\n",
       "      <td>2018-02-01 16:32:15</td>\n",
       "      <td>2018-02-01 16:57:04</td>\n",
       "      <td>2018-02-05 11:06:03</td>\n",
       "      <td>2018-02-06 23:52:10</td>\n",
       "      <td>2018-02-19 00:00:00</td>\n",
       "      <td>a1501121525014a1ff9d8247bcdf1e7e</td>\n",
       "      <td>sao paulo</td>\n",
       "      <td>SP</td>\n",
       "      <td>3</td>\n",
       "      <td>voucher</td>\n",
       "      <td>1</td>\n",
       "      <td>9.94</td>\n",
       "      <td>1</td>\n",
       "      <td>ec246911ea63f94a11fc8d78c270153f</td>\n",
       "      <td>febab0275244b9a49a623f0bd613ca2f</td>\n",
       "      <td>2018-02-07 16:57:04</td>\n",
       "      <td>16.9</td>\n",
       "      <td>8.72</td>\n",
       "      <td>instrumentos_musicais</td>\n",
       "      <td>pedreira</td>\n",
       "      <td>SP</td>\n",
       "    </tr>\n",
       "  </tbody>\n",
       "</table>\n",
       "</div>"
      ],
      "text/plain": [
       "                               order_id                       customer_id  \\\n",
       "59784  91d3db538cfff9a4f1cd5d5ad9481b05  93398976408677d44139e085d01c41a3   \n",
       "59785  91d3db538cfff9a4f1cd5d5ad9481b05  93398976408677d44139e085d01c41a3   \n",
       "59786  91d3db538cfff9a4f1cd5d5ad9481b05  93398976408677d44139e085d01c41a3   \n",
       "\n",
       "      order_status order_purchase_timestamp    order_approved_at  \\\n",
       "59784    delivered      2018-02-01 16:32:15  2018-02-01 16:57:04   \n",
       "59785    delivered      2018-02-01 16:32:15  2018-02-01 16:57:04   \n",
       "59786    delivered      2018-02-01 16:32:15  2018-02-01 16:57:04   \n",
       "\n",
       "      order_delivered_carrier_date order_delivered_customer_date  \\\n",
       "59784          2018-02-05 11:06:03           2018-02-06 23:52:10   \n",
       "59785          2018-02-05 11:06:03           2018-02-06 23:52:10   \n",
       "59786          2018-02-05 11:06:03           2018-02-06 23:52:10   \n",
       "\n",
       "      order_estimated_delivery_date                customer_unique_id  \\\n",
       "59784           2018-02-19 00:00:00  a1501121525014a1ff9d8247bcdf1e7e   \n",
       "59785           2018-02-19 00:00:00  a1501121525014a1ff9d8247bcdf1e7e   \n",
       "59786           2018-02-19 00:00:00  a1501121525014a1ff9d8247bcdf1e7e   \n",
       "\n",
       "      customer_city customer_state  payment_sequential payment_type  \\\n",
       "59784     sao paulo             SP                   1  credit_card   \n",
       "59785     sao paulo             SP                   2      voucher   \n",
       "59786     sao paulo             SP                   3      voucher   \n",
       "\n",
       "       payment_installments  payment_value  order_item_id  \\\n",
       "59784                     1           4.68              1   \n",
       "59785                     1          11.00              1   \n",
       "59786                     1           9.94              1   \n",
       "\n",
       "                             product_id                         seller_id  \\\n",
       "59784  ec246911ea63f94a11fc8d78c270153f  febab0275244b9a49a623f0bd613ca2f   \n",
       "59785  ec246911ea63f94a11fc8d78c270153f  febab0275244b9a49a623f0bd613ca2f   \n",
       "59786  ec246911ea63f94a11fc8d78c270153f  febab0275244b9a49a623f0bd613ca2f   \n",
       "\n",
       "       shipping_limit_date  price  freight_value  product_category_name  \\\n",
       "59784  2018-02-07 16:57:04   16.9           8.72  instrumentos_musicais   \n",
       "59785  2018-02-07 16:57:04   16.9           8.72  instrumentos_musicais   \n",
       "59786  2018-02-07 16:57:04   16.9           8.72  instrumentos_musicais   \n",
       "\n",
       "      seller_city seller_state  \n",
       "59784    pedreira           SP  \n",
       "59785    pedreira           SP  \n",
       "59786    pedreira           SP  "
      ]
     },
     "execution_count": 192,
     "metadata": {},
     "output_type": "execute_result"
    }
   ],
   "source": [
    "pd.merge(final_orders_delivered, orders_items, on='order_id').query(\"order_id=='91d3db538cfff9a4f1cd5d5ad9481b05'\")"
   ]
  },
  {
   "cell_type": "markdown",
   "metadata": {},
   "source": [
    "COMMENS"
   ]
  },
  {
   "cell_type": "markdown",
   "metadata": {},
   "source": [
    "* **Cenário 3:** (N:N)"
   ]
  },
  {
   "cell_type": "code",
   "execution_count": null,
   "metadata": {},
   "outputs": [],
   "source": [
    "orders_items.query(\"order_id==''\")"
   ]
  },
  {
   "cell_type": "code",
   "execution_count": null,
   "metadata": {},
   "outputs": [],
   "source": [
    "final_orders_delivered.query(\"order_id==''\")"
   ]
  },
  {
   "cell_type": "code",
   "execution_count": null,
   "metadata": {},
   "outputs": [],
   "source": [
    "pd.merge(final_orders_delivered, orders_items, on='order_id').query(\"order_id==''\")"
   ]
  },
  {
   "cell_type": "markdown",
   "metadata": {},
   "source": [
    "COMMENTS"
   ]
  },
  {
   "cell_type": "markdown",
   "metadata": {},
   "source": [
    "---"
   ]
  }
 ],
 "metadata": {
  "kernelspec": {
   "display_name": "Python 3",
   "language": "python",
   "name": "python3"
  },
  "language_info": {
   "codemirror_mode": {
    "name": "ipython",
    "version": 3
   },
   "file_extension": ".py",
   "mimetype": "text/x-python",
   "name": "python",
   "nbconvert_exporter": "python",
   "pygments_lexer": "ipython3",
   "version": "3.7.6"
  }
 },
 "nbformat": 4,
 "nbformat_minor": 4
}
