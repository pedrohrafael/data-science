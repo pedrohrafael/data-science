{
 "cells": [
  {
   "cell_type": "markdown",
   "id": "afdc43b8-9afe-4f9e-8d9c-e66a60381956",
   "metadata": {
    "tags": []
   },
   "source": [
    "# Algoritmo de Machine Learning para Previsão de Churn"
   ]
  },
  {
   "cell_type": "markdown",
   "id": "23cb68a2-fb6e-4f1e-a9ec-5f940c036ef8",
   "metadata": {
    "tags": []
   },
   "source": [
    "## Objetivo principal: \n",
    "Este é um projeto para a formação __Cientista de Dados__ da [Data Science Academy](https://www.datascienceacademy.com.br), com o objetivo de construir um algoritmo de Machine Learning, demonstrando passo a passo do desenvolvimento."
   ]
  },
  {
   "cell_type": "markdown",
   "id": "1b168ccf-6557-4260-9728-ccaa641a9e1a",
   "metadata": {},
   "source": [
    "__Modelo:__ Será construido do zero uma versão simplificada da [Regressão Logistica](https://pt.wikipedia.org/wiki/Regress%C3%A3o_log%C3%ADstica), sendo este um algoritmo aplicado a problemas de classificação. \n",
    "\n",
    "As bases principais utilizadas para definir os cálculos das funções do algoritmo são:\n",
    "- [CS229 Lecture Notes](https://cs229.stanford.edu/lectures-spring2022/main_notes.pdf) por [Andrew Ng](https://www.andrewng.org/).\n",
    "- [Probability for Machine Learning - Discover How To Harness Uncertainty With Python](https://dokumen.pub/probability-for-machine-learning-discover-how-to-harness-uncertainty-with-python-v19nbsped.html) por Jason Brownlee\n",
    "\n",
    "- [Machine Learning - A Probabilistic Perspective](http://noiselab.ucsd.edu/ECE228/Murphy_Machine_Learning.pdf) por Kevin P. Murphy"
   ]
  },
  {
   "cell_type": "markdown",
   "id": "5b7a9082-4865-46cc-a535-aa58dab124a9",
   "metadata": {
    "tags": []
   },
   "source": [
    "## Objetivo secundário:\n",
    "Utilizar o algoritmo desenvolvido para solucionar um problema de negócio. O algoritmo construído será utilizado para previsão de churn. "
   ]
  },
  {
   "cell_type": "markdown",
   "id": "a63eedff-bf17-4c14-8487-efa56f91f244",
   "metadata": {},
   "source": [
    "Os dados estão disponíveis no Kaggle e o objetivo é __identificar os clientes que irão sair ou não nos próximos 6 meses__.\n",
    "\n",
    "Obs.: Ao longo do desenvolvimento do projeto, podem ser utilizadas bibliotecas e frameworks de mercado disponíveis para realizar etapas de pré-processamento e tratamentos gerais dos dados, mas o algoritmo de classificação e todo seu desenvolvimento serão realizados neste notebook."
   ]
  },
  {
   "cell_type": "markdown",
   "id": "56539b45-0d54-4e7b-891c-b8c8982c266e",
   "metadata": {
    "tags": []
   },
   "source": [
    "## Construindo o algoritmo\n",
    "\n",
    "<!-- \n",
    "https://web.stanford.edu/~jurafsky/slp3/5.pdf\n",
    "\n",
    "https://medium.com/@msremigio/regress%C3%A3o-log%C3%ADstica-logistic-regression-997c6259ff9a\n",
    "\n",
    "https://medium.com/turing-talks/turing-talks-14-modelo-de-predi%C3%A7%C3%A3o-regress%C3%A3o-log%C3%ADstica-7b70a9098e43\n",
    "\n",
    "https://matheusfacure.github.io/2017/02/25/regr-log/\n",
    "\n",
    "https://www.datacamp.com/tutorial/understanding-logistic-regression-python\n",
    "\n",
    "https://monografias.ufma.br/jspui/bitstream/123456789/3572/1/LEANDRO-GONZALEZ.pdf -->\n"
   ]
  },
  {
   "cell_type": "markdown",
   "id": "316d9bbc-5c4f-4f76-bdd0-9da24678062d",
   "metadata": {},
   "source": [
    "A __regressão logística__ pode ser usada para vários problemas de classificação binária, como detecção de spam, previsão de diabetes, se cliente vai comprar um produto ou vai deixar de ser um cliente, etc. Se trata de um __algoritmo linear__, assim como a [regressão linear](https://pt.wikipedia.org/wiki/Regress%C3%A3o_linear), porém suas saídas são probabilidades dos eventos acontecerem, sendo essas probabilidades transformadas em valores geralmente binários (0 ou 1). \n",
    "\n",
    "Para construir o algoritmo da regressão logistica será necessário definir parametros de iniciais, uma __função de custo__ e uma __função de otimização__ que irá de for iterativa, atualizar os parametros até a convergencia. O algoritmo usa da __função logística sigmoide__ para modelar a probabilidade dos eventos estimados."
   ]
  },
  {
   "cell_type": "markdown",
   "id": "05fd607d-6b9b-44f4-86b5-2c45193a2522",
   "metadata": {
    "tags": []
   },
   "source": [
    "### __Sigmoide__\n",
    "\n",
    "<!-- https://matheusfacure.github.io/2017/07/12/activ-func/\n",
    "\n",
    "https://iaexpert.academy/2020/05/25/funcoes-de-ativacao-definicao-caracteristicas-e-quando-usar-cada-uma/ -->"
   ]
  },
  {
   "cell_type": "markdown",
   "id": "abcd2fe3-4249-4e3e-95aa-5bb4f10e95d6",
   "metadata": {},
   "source": [
    "[Sigmoid](https://pt.wikipedia.org/wiki/Fun%C3%A7%C3%A3o_log%C3%ADstica) é uma função matemática que transforma qualquer número real em uma probabilidade entre 0 e 1. Graficamente, a sigmoide representa uma curva em forma de S, indicando que quanto mais `z` se aproxima de infinito positivo, mais o valor previsto se aproxima de 1 e quanto mais `z` se aproximar ao infinito negativo, mais o valor previsto será aproximado de 0.\n",
    "\n",
    "A função logistica é definida como:\n",
    "\n",
    "$$\\sigma(z)=\\frac{1}{1+e^{-z}}$$\n",
    "\n",
    "Representada graficamente:\n",
    "\n",
    "<img src=\"https://ml-cheatsheet.readthedocs.io/en/latest/_images/sigmoid.png\" alt=\"drawing\" style=\"width:250px;\"/>\n",
    "\n",
    "Onde:\n",
    "- __σ(z)__ = Estimativa de probabilidade (p), sendo uma saída entre 0 e 1\n",
    "- __z__ = Entrada para a função (estimativa do algoritmo, por exemplo βx+α)\n",
    "- __e__ = [Constante de Euler](https://pt.wikipedia.org/wiki/E_(constante_matem%C3%A1tica) ), base dos logaritmos naturais\n",
    "\n",
    "Como __limite de decisão__ para mapear as probabilidades (p) em classes discretas binárias (0 ou 1) consideramos o valor de __0.5__, conforme a regra abaixo:\n",
    "\n",
    "$$\n",
    "p ≥ 0.5, classe=1 \\\\\n",
    "p < 0.5, classe=0\n",
    "$$"
   ]
  },
  {
   "cell_type": "code",
   "execution_count": 1,
   "id": "f1138ad4-b7e1-499e-b0a9-270837fef468",
   "metadata": {},
   "outputs": [],
   "source": [
    "# Definindo a função sigmoide em python\n",
    "import numpy as np\n",
    "\n",
    "def sigmoid(x):\n",
    "    return 1 / (1 + np.exp(-x))"
   ]
  },
  {
   "cell_type": "markdown",
   "id": "a2a4ae11-fa22-43cb-ac1f-43e57bd859cd",
   "metadata": {},
   "source": [
    "### __Função de custo/perda__"
   ]
  },
  {
   "cell_type": "markdown",
   "id": "71123766-6a62-4b0f-8bd0-7e6fd965d847",
   "metadata": {},
   "source": [
    "As funções de perda são usadas para determinar o custo (também conhecido como \"erro\") entre a saída do algoritmo `ŷ` e o valor alvo real `y`, ou seja, a função de perda gera uma métrica que indica o quão longe as estimativas geradas estão dos valores reais. Como o objetivo é ser o mais assertivo quanto possível, é necessário reduzir os custos gradativamente e isso é possível ser feito utilizando uma função de otimização.\n",
    "\n",
    "Apesar de a Regressão Logistica ser um algoritmo linear, não devemos utilizar a mesma função de custo [MSE](https://en.wikipedia.org/wiki/Mean_squared_error) (Mean Squared Error) que usamos para a Regressão Linear. Pulando a parte explicativa matemática¹, de maneira resumida o motivo de não usar a MSE para regressão logistica é que a função de previsão é não linear, devido à transformação sigmóide, e por isso é utilizada uma função de custo mais adequada, a __Entropia Cruzada binária__ ou __Log Loss__, que é dada pela função abaixo:\n",
    "\n",
    "$$ J(\\theta) = -\\frac{1}{m}\\sum_{n=1}^m[y^{(i)}log(\\hat{y}^{(i)})+(1-y^{(i)})log(1-\\hat{y}^{(i)})]$$\n",
    "\n",
    "[1] [Probability for Machine Learning - Discover How To Harness Uncertainty With Python, página 102](https://dokumen.pub/probability-for-machine-learning-discover-how-to-harness-uncertainty-with-python-v19nbsped.html)"
   ]
  },
  {
   "cell_type": "code",
   "execution_count": 2,
   "id": "ff964023-3c48-4d62-bdce-174a2fc517de",
   "metadata": {},
   "outputs": [],
   "source": [
    "# Definindo a função de custo em python\n",
    "def log_loss(y, yhat):\n",
    "    m = len(y)\n",
    "    loss = (-1 / m) * np.sum((y.T.dot(np.log(yhat))) + ((1 - y).T.dot(np.log(1 - yhat))))\n",
    "    return loss"
   ]
  },
  {
   "cell_type": "markdown",
   "id": "cb49ffeb-52c8-4c12-a289-38278bfbf7ca",
   "metadata": {
    "tags": []
   },
   "source": [
    "### Função de otimização\n",
    "\n",
    "<!-- https://matheusfacure.github.io/2017/02/20/MQO-Gradiente-Descendente/ \n",
    "https://developer.ibm.com/articles/implementing-logistic-regression-from-scratch-in-python/\n",
    "-->"
   ]
  },
  {
   "cell_type": "markdown",
   "id": "3c8710b3-bf27-4add-b39c-fbcf233220a3",
   "metadata": {},
   "source": [
    "Como o objetivo é minimizar a função de custo, será necessário ajustar os parametros (pesos) até alcançar a convergencia. Esta otimização dos parametros pode ser obtida através da derivada da função de custo em relação a cada peso. Como função de otimização, será aplicado o __gradiente descendente__ (descida gradiente).\n",
    "\n",
    "Os gradientes são o vetor da derivada de 1ª ordem da função custo. \n",
    "Ao diferenciar a função de custo, temos a expressão do gradiente que é dado por:\n",
    "\n",
    "$$\\frac{\\partial}{\\partial \\theta_j} J(\\theta) = \\frac{1}{m}\\sum_{i=1}^m(\\hat{y}^{(i)}-y^{(i)})x_j^{(i)}$$\n",
    "\n",
    "Para ajustar o parâmetro __θ__:\n",
    "\n",
    "$$ \\theta_j^{new}=\\theta_j^{old}-\\alpha\\frac{1}{m}\\sum_{i=1}^m(\\hat{y}^{(i)}-y^{(i)})x_j^{(i)}$$\n",
    "\n",
    "Onde __α__ é a taxa de aprendizado (learning rate).\n",
    "\n",
    "Para mais detalhes sobre a derivação da função de custo da regressão logistica, indico o artigo [The Derivative of Cost Function for Logistic Regression](https://medium.com/analytics-vidhya/derivative-of-log-loss-function-for-logistic-regression-9b832f025c2d)"
   ]
  },
  {
   "cell_type": "code",
   "execution_count": 3,
   "id": "3878db2f-628a-4b3a-932a-d35347e7770f",
   "metadata": {},
   "outputs": [],
   "source": [
    "# Definindo função de otimização em python\n",
    "def gradient_descent(X, y, theta, yhat, learning_rate):  \n",
    "    m = len(y)\n",
    "    theta -= learning_rate * ((1 / m) * (np.dot(X.T, (yhat - y))))\n",
    "    return theta"
   ]
  },
  {
   "cell_type": "markdown",
   "id": "3cb68fa6-0976-45cc-aec9-a5f06f876b07",
   "metadata": {},
   "source": [
    "---"
   ]
  },
  {
   "cell_type": "markdown",
   "id": "ebbdc7af-0bad-4296-b762-5379e95a3570",
   "metadata": {
    "tags": []
   },
   "source": [
    "### Regressão Logistica"
   ]
  },
  {
   "cell_type": "markdown",
   "id": "44583211-7060-46a1-a9ab-9c0181f633f0",
   "metadata": {},
   "source": [
    "Para melhor a aplicação das funções, vou reescreve-las utilizando programação orientada a objetos para criar uma classe que irá representar o algoritmo."
   ]
  },
  {
   "cell_type": "code",
   "execution_count": 4,
   "id": "7aab52c6-3df8-41b0-a6a9-7f7a1ffe375d",
   "metadata": {},
   "outputs": [],
   "source": [
    "class LogisticRegression:\n",
    "    \"\"\"\n",
    "    Classificador de regressão logística.\n",
    "    Parametros\n",
    "    ----------\n",
    "    n_iterations: int, default=500\n",
    "        Número máximo de iterações para convergir.\n",
    "    learning_rate float, default=0.01\n",
    "        Taxa de aprendizado.\n",
    "    ----------\n",
    "    \"\"\"    \n",
    "    # Inicializando a função com os parametros learning_rate e n_iterations\n",
    "    def __init__(self, learning_rate=0.01, n_iterations=500):\n",
    "        self.learning_rate = learning_rate\n",
    "        self.n_iterations = n_iterations\n",
    "    \n",
    "    # Implementando a função logistica\n",
    "    def __sigmoid(self, z):\n",
    "        np.seterr(all='ignore')\n",
    "        return 1 / (1 + np.exp(-z))\n",
    "    \n",
    "    # Implementando a função de custo: Entropia Cruzada Binária/Log Loss\n",
    "    def __log_loss(self, y, yhat):        \n",
    "        return (-1 / self.__m) * np.sum((y.T.dot(np.log(yhat))) + ((1 - y).T.dot(np.log(1 - yhat))))\n",
    "    \n",
    "    # Implementando a função de otimização: Gradiente Descendente\n",
    "    def __gradient_descent(self, X, y, yhat, theta):\n",
    "        theta -= self.learning_rate * ((1 / self.__m) * (np.dot(X.T, (yhat - y))))\n",
    "        return theta\n",
    "    \n",
    "    # Definindo a função de ajuste do modelo: processo de treinamento\n",
    "    def fit(self, X, y):\n",
    "        \"\"\"\n",
    "        Ajuste o modelo de acordo com os dados de treinamento fornecidos.\n",
    "        \"\"\"\n",
    "        self.classes_ = np.unique(y)\n",
    "        self.__m = np.float64(X.shape[0])\n",
    "        self.loss_lst = list()\n",
    "        theta = np.zeros((X.shape[1]))\n",
    "        for _ in range(self.n_iterations):\n",
    "            z = np.dot(X, theta)            \n",
    "            yhat = self.__sigmoid(z)\n",
    "            theta = self.__gradient_descent(X, y, yhat, theta)\n",
    "            loss = self.__log_loss(y, yhat)\n",
    "            self.loss_lst.append(loss)\n",
    "        self.theta = theta        \n",
    "    \n",
    "    # Definindo a função de estimador do modelo\n",
    "    def predict(self, X):\n",
    "        \"\"\"\n",
    "        Prever rótulos de classe para amostras em X.\n",
    "        \"\"\"\n",
    "        z = np.dot(X, self.theta)\n",
    "        proba = self.__sigmoid(z)\n",
    "        return np.asarray([1 if p > 0.5 else 0 for p in proba])"
   ]
  },
  {
   "cell_type": "markdown",
   "id": "be876e33-0600-4bb7-af3a-b41a0227a33f",
   "metadata": {},
   "source": [
    "O código acima está disponível em [../src/LogisticRegression.py](https://github.com/pedrohrafael/data-science/blob/main/projects/datascienceacademy/churn_prediction/src/LogisticRegression.py)"
   ]
  },
  {
   "cell_type": "markdown",
   "id": "a9419d02-5a2d-41be-b179-33a340bb14c3",
   "metadata": {
    "tags": []
   },
   "source": [
    "## Previsão de Churn"
   ]
  },
  {
   "cell_type": "markdown",
   "id": "52f75131-cf4b-426f-91b5-c8221fb50919",
   "metadata": {},
   "source": [
    "<!-- DELETE https://medium.com/data-hackers/churn-prediction-de-uma-empresa-de-telecomunica%C3%A7%C3%B5es-5832b324c5a -->\n",
    "\n",
    "Churn, representa a taxa de evasão da base de clientes. Churn ou churn rate é uma métrica importante tanto pelo fato de que a perda de clientes leva a uma perda de receita potencial, mas também pelo fato de que o custo para adquirir novos clientes é de um modo geral mais alto que o custo para manter os clientes atuais na base.\n",
    "\n",
    "Como o objetivo deste projeto é a construção de um algoritmo de machine learning e sua aplicação para solucionar um problema de negócios, as etapas de processamento de dados, validação de métricas e ajuste de hiperparametros serão realizadas o mínimo possível, pois não é o objetivo aqui ter uma alta taxa de assertividade.\n",
    "\n",
    "Como base de dados, será utilizado o dataset [JOB-A-THON](https://www.kaggle.com/datasets/gauravduttakiit/jobathon-march-2022) disponível no Kaggle.\n",
    "\n",
    "Este dataset conta com uma base de clientes de um banco, onde o objetivo é prever se os clientes irão sair ou não da base nos próximos 6 meses."
   ]
  },
  {
   "cell_type": "markdown",
   "id": "67bde643-2a0b-4f3b-87bc-48a329c2bf67",
   "metadata": {
    "tags": []
   },
   "source": [
    "#### Dicionário de dados:"
   ]
  },
  {
   "cell_type": "markdown",
   "id": "b9773463-206b-4c1b-9326-b452146ebf00",
   "metadata": {},
   "source": [
    "- __ID__ - Identificador exclusivo de uma linha\n",
    "- __Age__ - Idade do cliente\n",
    "- __Gender__ - Gênero do cliente (Masculino e Feminino)\n",
    "- __Income__ - Renda anual do cliente\n",
    "- __Balance__ - Saldo médio trimestral do cliente\n",
    "- __Vintage__ - Nº de anos em que o cliente está associado ao banco\n",
    "- __Transaction_Status__ - Se o cliente fez alguma transação nos últimos 3 meses ou não\n",
    "- __Product_Holdings__ - Nº de participações de produtos com o banco\n",
    "- __Credit_Card__ - Se o cliente tem cartão de crédito ou não\n",
    "- __Credit_Category__ - Categoria de um cliente com base na pontuação de crédito\n",
    "- __Is_Churn__ - Se o cliente vai sair nos próximos 6 meses ou não"
   ]
  },
  {
   "cell_type": "markdown",
   "id": "15bd78ad-2c5d-4a15-b8b8-a53763b2abbe",
   "metadata": {},
   "source": [
    "### Importando os dados"
   ]
  },
  {
   "cell_type": "code",
   "execution_count": 5,
   "id": "b55382d2-10e7-4a7a-aaaf-330b545a5c59",
   "metadata": {},
   "outputs": [],
   "source": [
    "import pandas as pd\n",
    "import numpy as np\n",
    "import os"
   ]
  },
  {
   "cell_type": "code",
   "execution_count": 6,
   "id": "83611443-cf5f-496c-9e0e-3d0019c5f3e4",
   "metadata": {},
   "outputs": [],
   "source": [
    "ROOT_DIR = os.path.dirname(os.path.abspath(os.getcwd()))\n",
    "DATA_DIR = os.path.join(ROOT_DIR, \"data\")"
   ]
  },
  {
   "cell_type": "code",
   "execution_count": 7,
   "id": "48460b08-167d-49bc-8e6a-98ac2cdc93dc",
   "metadata": {},
   "outputs": [],
   "source": [
    "df_labels = pd.read_csv(os.path.join(DATA_DIR, \"sample_OoSmYo5.csv\"))\n",
    "df_train = pd.read_csv(os.path.join(DATA_DIR, \"train_PDjVQMB.csv\"))\n",
    "df_test = pd.read_csv(os.path.join(DATA_DIR, \"test_lTY72QC.csv\"))"
   ]
  },
  {
   "cell_type": "code",
   "execution_count": 8,
   "id": "db58641a-2c85-42b8-a5b6-b2abd148beb4",
   "metadata": {},
   "outputs": [],
   "source": [
    "df_test = pd.merge(df_test, df_labels)"
   ]
  },
  {
   "cell_type": "code",
   "execution_count": 9,
   "id": "f6e44225-f09c-4045-98ec-346e3488819c",
   "metadata": {},
   "outputs": [
    {
     "data": {
      "text/html": [
       "<div>\n",
       "<style scoped>\n",
       "    .dataframe tbody tr th:only-of-type {\n",
       "        vertical-align: middle;\n",
       "    }\n",
       "\n",
       "    .dataframe tbody tr th {\n",
       "        vertical-align: top;\n",
       "    }\n",
       "\n",
       "    .dataframe thead th {\n",
       "        text-align: right;\n",
       "    }\n",
       "</style>\n",
       "<table border=\"1\" class=\"dataframe\">\n",
       "  <thead>\n",
       "    <tr style=\"text-align: right;\">\n",
       "      <th></th>\n",
       "      <th>ID</th>\n",
       "      <th>Age</th>\n",
       "      <th>Gender</th>\n",
       "      <th>Income</th>\n",
       "      <th>Balance</th>\n",
       "      <th>Vintage</th>\n",
       "      <th>Transaction_Status</th>\n",
       "      <th>Product_Holdings</th>\n",
       "      <th>Credit_Card</th>\n",
       "      <th>Credit_Category</th>\n",
       "      <th>Is_Churn</th>\n",
       "    </tr>\n",
       "  </thead>\n",
       "  <tbody>\n",
       "    <tr>\n",
       "      <th>5897</th>\n",
       "      <td>d1b8f880</td>\n",
       "      <td>60</td>\n",
       "      <td>Female</td>\n",
       "      <td>10L - 15L</td>\n",
       "      <td>912813.66</td>\n",
       "      <td>3</td>\n",
       "      <td>1</td>\n",
       "      <td>2</td>\n",
       "      <td>0</td>\n",
       "      <td>Poor</td>\n",
       "      <td>0</td>\n",
       "    </tr>\n",
       "    <tr>\n",
       "      <th>4874</th>\n",
       "      <td>b3ea2c1e</td>\n",
       "      <td>51</td>\n",
       "      <td>Male</td>\n",
       "      <td>5L - 10L</td>\n",
       "      <td>2394558.81</td>\n",
       "      <td>3</td>\n",
       "      <td>1</td>\n",
       "      <td>1</td>\n",
       "      <td>1</td>\n",
       "      <td>Good</td>\n",
       "      <td>0</td>\n",
       "    </tr>\n",
       "    <tr>\n",
       "      <th>2441</th>\n",
       "      <td>704c27de</td>\n",
       "      <td>32</td>\n",
       "      <td>Male</td>\n",
       "      <td>5L - 10L</td>\n",
       "      <td>741359.79</td>\n",
       "      <td>1</td>\n",
       "      <td>1</td>\n",
       "      <td>2</td>\n",
       "      <td>1</td>\n",
       "      <td>Poor</td>\n",
       "      <td>0</td>\n",
       "    </tr>\n",
       "    <tr>\n",
       "      <th>506</th>\n",
       "      <td>7b03b242</td>\n",
       "      <td>56</td>\n",
       "      <td>Male</td>\n",
       "      <td>5L - 10L</td>\n",
       "      <td>2198194.11</td>\n",
       "      <td>0</td>\n",
       "      <td>1</td>\n",
       "      <td>1</td>\n",
       "      <td>0</td>\n",
       "      <td>Good</td>\n",
       "      <td>1</td>\n",
       "    </tr>\n",
       "    <tr>\n",
       "      <th>4553</th>\n",
       "      <td>1886a5fd</td>\n",
       "      <td>51</td>\n",
       "      <td>Female</td>\n",
       "      <td>More than 15L</td>\n",
       "      <td>1044761.31</td>\n",
       "      <td>4</td>\n",
       "      <td>0</td>\n",
       "      <td>1</td>\n",
       "      <td>1</td>\n",
       "      <td>Poor</td>\n",
       "      <td>0</td>\n",
       "    </tr>\n",
       "  </tbody>\n",
       "</table>\n",
       "</div>"
      ],
      "text/plain": [
       "            ID  Age  Gender         Income     Balance  Vintage  \\\n",
       "5897  d1b8f880   60  Female      10L - 15L   912813.66        3   \n",
       "4874  b3ea2c1e   51    Male       5L - 10L  2394558.81        3   \n",
       "2441  704c27de   32    Male       5L - 10L   741359.79        1   \n",
       "506   7b03b242   56    Male       5L - 10L  2198194.11        0   \n",
       "4553  1886a5fd   51  Female  More than 15L  1044761.31        4   \n",
       "\n",
       "      Transaction_Status Product_Holdings  Credit_Card Credit_Category  \\\n",
       "5897                   1                2            0            Poor   \n",
       "4874                   1                1            1            Good   \n",
       "2441                   1                2            1            Poor   \n",
       "506                    1                1            0            Good   \n",
       "4553                   0                1            1            Poor   \n",
       "\n",
       "      Is_Churn  \n",
       "5897         0  \n",
       "4874         0  \n",
       "2441         0  \n",
       "506          1  \n",
       "4553         0  "
      ]
     },
     "execution_count": 9,
     "metadata": {},
     "output_type": "execute_result"
    }
   ],
   "source": [
    "df_train.sample(5)"
   ]
  },
  {
   "cell_type": "markdown",
   "id": "6ac989bc-fbff-4a2a-add9-e01f158cd3c0",
   "metadata": {},
   "source": [
    "### Explorando os dados"
   ]
  },
  {
   "cell_type": "code",
   "execution_count": 10,
   "id": "c1238e69-afc1-407b-950d-5388e34be440",
   "metadata": {},
   "outputs": [
    {
     "name": "stdout",
     "output_type": "stream",
     "text": [
      "<class 'pandas.core.frame.DataFrame'>\n",
      "RangeIndex: 6650 entries, 0 to 6649\n",
      "Data columns (total 11 columns):\n",
      " #   Column              Non-Null Count  Dtype  \n",
      "---  ------              --------------  -----  \n",
      " 0   ID                  6650 non-null   object \n",
      " 1   Age                 6650 non-null   int64  \n",
      " 2   Gender              6650 non-null   object \n",
      " 3   Income              6650 non-null   object \n",
      " 4   Balance             6650 non-null   float64\n",
      " 5   Vintage             6650 non-null   int64  \n",
      " 6   Transaction_Status  6650 non-null   int64  \n",
      " 7   Product_Holdings    6650 non-null   object \n",
      " 8   Credit_Card         6650 non-null   int64  \n",
      " 9   Credit_Category     6650 non-null   object \n",
      " 10  Is_Churn            6650 non-null   int64  \n",
      "dtypes: float64(1), int64(5), object(5)\n",
      "memory usage: 571.6+ KB\n"
     ]
    }
   ],
   "source": [
    "df_train.info()"
   ]
  },
  {
   "cell_type": "code",
   "execution_count": 11,
   "id": "8c7be015-fd34-4607-98ca-701ee0a2da3c",
   "metadata": {},
   "outputs": [
    {
     "data": {
      "text/html": [
       "<div>\n",
       "<style scoped>\n",
       "    .dataframe tbody tr th:only-of-type {\n",
       "        vertical-align: middle;\n",
       "    }\n",
       "\n",
       "    .dataframe tbody tr th {\n",
       "        vertical-align: top;\n",
       "    }\n",
       "\n",
       "    .dataframe thead th {\n",
       "        text-align: right;\n",
       "    }\n",
       "</style>\n",
       "<table border=\"1\" class=\"dataframe\">\n",
       "  <thead>\n",
       "    <tr style=\"text-align: right;\">\n",
       "      <th></th>\n",
       "      <th>count</th>\n",
       "      <th>mean</th>\n",
       "      <th>std</th>\n",
       "      <th>min</th>\n",
       "      <th>10%</th>\n",
       "      <th>25%</th>\n",
       "      <th>50%</th>\n",
       "      <th>75%</th>\n",
       "      <th>90%</th>\n",
       "      <th>max</th>\n",
       "    </tr>\n",
       "  </thead>\n",
       "  <tbody>\n",
       "    <tr>\n",
       "      <th>Age</th>\n",
       "      <td>6650.0</td>\n",
       "      <td>41.130226</td>\n",
       "      <td>9.685747</td>\n",
       "      <td>21.0</td>\n",
       "      <td>29.000</td>\n",
       "      <td>34.0000</td>\n",
       "      <td>40.000</td>\n",
       "      <td>47.00</td>\n",
       "      <td>55.000</td>\n",
       "      <td>72.00</td>\n",
       "    </tr>\n",
       "    <tr>\n",
       "      <th>Balance</th>\n",
       "      <td>6650.0</td>\n",
       "      <td>804595.354985</td>\n",
       "      <td>515754.867315</td>\n",
       "      <td>63.0</td>\n",
       "      <td>129847.401</td>\n",
       "      <td>392264.2125</td>\n",
       "      <td>764938.575</td>\n",
       "      <td>1147123.71</td>\n",
       "      <td>1511154.522</td>\n",
       "      <td>2436615.81</td>\n",
       "    </tr>\n",
       "    <tr>\n",
       "      <th>Vintage</th>\n",
       "      <td>6650.0</td>\n",
       "      <td>2.250226</td>\n",
       "      <td>1.458795</td>\n",
       "      <td>0.0</td>\n",
       "      <td>0.000</td>\n",
       "      <td>1.0000</td>\n",
       "      <td>2.000</td>\n",
       "      <td>3.00</td>\n",
       "      <td>4.000</td>\n",
       "      <td>5.00</td>\n",
       "    </tr>\n",
       "    <tr>\n",
       "      <th>Transaction_Status</th>\n",
       "      <td>6650.0</td>\n",
       "      <td>0.515789</td>\n",
       "      <td>0.499788</td>\n",
       "      <td>0.0</td>\n",
       "      <td>0.000</td>\n",
       "      <td>0.0000</td>\n",
       "      <td>1.000</td>\n",
       "      <td>1.00</td>\n",
       "      <td>1.000</td>\n",
       "      <td>1.00</td>\n",
       "    </tr>\n",
       "    <tr>\n",
       "      <th>Credit_Card</th>\n",
       "      <td>6650.0</td>\n",
       "      <td>0.664361</td>\n",
       "      <td>0.472249</td>\n",
       "      <td>0.0</td>\n",
       "      <td>0.000</td>\n",
       "      <td>0.0000</td>\n",
       "      <td>1.000</td>\n",
       "      <td>1.00</td>\n",
       "      <td>1.000</td>\n",
       "      <td>1.00</td>\n",
       "    </tr>\n",
       "    <tr>\n",
       "      <th>Is_Churn</th>\n",
       "      <td>6650.0</td>\n",
       "      <td>0.231128</td>\n",
       "      <td>0.421586</td>\n",
       "      <td>0.0</td>\n",
       "      <td>0.000</td>\n",
       "      <td>0.0000</td>\n",
       "      <td>0.000</td>\n",
       "      <td>0.00</td>\n",
       "      <td>1.000</td>\n",
       "      <td>1.00</td>\n",
       "    </tr>\n",
       "  </tbody>\n",
       "</table>\n",
       "</div>"
      ],
      "text/plain": [
       "                     count           mean            std   min         10%  \\\n",
       "Age                 6650.0      41.130226       9.685747  21.0      29.000   \n",
       "Balance             6650.0  804595.354985  515754.867315  63.0  129847.401   \n",
       "Vintage             6650.0       2.250226       1.458795   0.0       0.000   \n",
       "Transaction_Status  6650.0       0.515789       0.499788   0.0       0.000   \n",
       "Credit_Card         6650.0       0.664361       0.472249   0.0       0.000   \n",
       "Is_Churn            6650.0       0.231128       0.421586   0.0       0.000   \n",
       "\n",
       "                            25%         50%         75%          90%  \\\n",
       "Age                     34.0000      40.000       47.00       55.000   \n",
       "Balance             392264.2125  764938.575  1147123.71  1511154.522   \n",
       "Vintage                  1.0000       2.000        3.00        4.000   \n",
       "Transaction_Status       0.0000       1.000        1.00        1.000   \n",
       "Credit_Card              0.0000       1.000        1.00        1.000   \n",
       "Is_Churn                 0.0000       0.000        0.00        1.000   \n",
       "\n",
       "                           max  \n",
       "Age                      72.00  \n",
       "Balance             2436615.81  \n",
       "Vintage                   5.00  \n",
       "Transaction_Status        1.00  \n",
       "Credit_Card               1.00  \n",
       "Is_Churn                  1.00  "
      ]
     },
     "execution_count": 11,
     "metadata": {},
     "output_type": "execute_result"
    }
   ],
   "source": [
    "df_train.describe(percentiles=[.1, .25, .5, .75, .9]).T"
   ]
  },
  {
   "cell_type": "code",
   "execution_count": 12,
   "id": "2112ae8f-a196-45df-98b4-64a1a69932db",
   "metadata": {},
   "outputs": [
    {
     "data": {
      "text/html": [
       "<div>\n",
       "<style scoped>\n",
       "    .dataframe tbody tr th:only-of-type {\n",
       "        vertical-align: middle;\n",
       "    }\n",
       "\n",
       "    .dataframe tbody tr th {\n",
       "        vertical-align: top;\n",
       "    }\n",
       "\n",
       "    .dataframe thead th {\n",
       "        text-align: right;\n",
       "    }\n",
       "</style>\n",
       "<table border=\"1\" class=\"dataframe\">\n",
       "  <thead>\n",
       "    <tr style=\"text-align: right;\">\n",
       "      <th></th>\n",
       "      <th>Is_Churn</th>\n",
       "    </tr>\n",
       "  </thead>\n",
       "  <tbody>\n",
       "    <tr>\n",
       "      <th>0</th>\n",
       "      <td>0.77</td>\n",
       "    </tr>\n",
       "    <tr>\n",
       "      <th>1</th>\n",
       "      <td>0.23</td>\n",
       "    </tr>\n",
       "  </tbody>\n",
       "</table>\n",
       "</div>"
      ],
      "text/plain": [
       "   Is_Churn\n",
       "0      0.77\n",
       "1      0.23"
      ]
     },
     "execution_count": 12,
     "metadata": {},
     "output_type": "execute_result"
    }
   ],
   "source": [
    "(df_train.Is_Churn.value_counts(normalize=True)).to_frame().round(2)"
   ]
  },
  {
   "cell_type": "markdown",
   "id": "f849130f-24bf-4fa2-b154-dd15f677c02c",
   "metadata": {},
   "source": [
    "A variável alvo  dos dados de treino, __Is_Churn__, está desbalanceada, onde temos mais amostras de clientes \"não churn\" do que amostras de \"churn\" que queremos prever.\n",
    "\n",
    "O dataset conta com variáveis categoricas e numericas. Será necessário aplicar transformações em algumas variáveis antes de treinar o modelo."
   ]
  },
  {
   "cell_type": "markdown",
   "id": "b971d6ca-5734-4d01-b3e3-1c779cf54c94",
   "metadata": {
    "tags": []
   },
   "source": [
    "### Engenharia de recursos"
   ]
  },
  {
   "cell_type": "markdown",
   "id": "adc1e023-cf61-400f-b1d2-a8874e47424d",
   "metadata": {
    "tags": []
   },
   "source": [
    "#### Removendo coluna ID"
   ]
  },
  {
   "cell_type": "code",
   "execution_count": 13,
   "id": "af9ba962-23bf-4f3d-b7e3-2f8cb326755f",
   "metadata": {},
   "outputs": [],
   "source": [
    "# Removendo a coluna ID\n",
    "df_train.drop(columns=['ID'], inplace=True)\n",
    "df_test.drop(columns=['ID'], inplace=True)"
   ]
  },
  {
   "cell_type": "markdown",
   "id": "dced6b45-1e46-4d89-a46c-3f26ad508f8e",
   "metadata": {
    "tags": []
   },
   "source": [
    "#### Label encoder"
   ]
  },
  {
   "cell_type": "markdown",
   "id": "92f5012e-37e0-48d2-958d-57aecfd0a044",
   "metadata": {
    "tags": []
   },
   "source": [
    "##### Variáveis categorias ordinais"
   ]
  },
  {
   "cell_type": "code",
   "execution_count": 14,
   "id": "a728d5f6-2525-4ab8-888a-07d7bf886daa",
   "metadata": {},
   "outputs": [],
   "source": [
    "# Mapeando os valores numeros das variaveis categóricas ordinais\n",
    "Income_map = {'Less than 5L':0, '5L - 10L':1, '10L - 15L':2, 'More than 15L': 3}\n",
    "Credit_Category_map = {'Poor':0, 'Average':1, 'Good':2}\n",
    "Product_Holdings_map = {'1':0, '2':1, '3+':2}"
   ]
  },
  {
   "cell_type": "code",
   "execution_count": 15,
   "id": "1a113ecc-a6e9-4fdb-9311-8b5c0d301dfa",
   "metadata": {},
   "outputs": [],
   "source": [
    "# Transformando as variaveis categoricas ordinais em numericas\n",
    "df_train['Income'] = df_train['Income'].map(Income_map)\n",
    "df_train['Credit_Category'] = df_train['Credit_Category'].map(Credit_Category_map)\n",
    "df_train['Product_Holdings'] = df_train['Product_Holdings'].map(Product_Holdings_map)\n",
    "\n",
    "df_test['Income'] = df_test['Income'].map(Income_map)\n",
    "df_test['Credit_Category'] = df_test['Credit_Category'].map(Credit_Category_map)\n",
    "df_test['Product_Holdings'] = df_test['Product_Holdings'].map(Product_Holdings_map)"
   ]
  },
  {
   "cell_type": "markdown",
   "id": "e54bed6f-8724-492b-9142-77bb01dc2615",
   "metadata": {
    "tags": []
   },
   "source": [
    "##### Variáveis categorias nominais"
   ]
  },
  {
   "cell_type": "code",
   "execution_count": 16,
   "id": "f65359e0-f755-4bd0-80c0-a7196d89367a",
   "metadata": {},
   "outputs": [],
   "source": [
    "# Transformando as variaveis categoricas nominais em numericas\n",
    "df_train = pd.get_dummies(df_train, prefix='', prefix_sep='', columns=['Gender'])\n",
    "df_test = pd.get_dummies(df_test, prefix='', prefix_sep='', columns=['Gender'])"
   ]
  },
  {
   "cell_type": "markdown",
   "id": "d5ebfb17-490f-44e6-bfa2-b1041b49de10",
   "metadata": {
    "tags": []
   },
   "source": [
    "#### Dimensionamento de recursos"
   ]
  },
  {
   "cell_type": "markdown",
   "id": "ec082603-bde0-45a6-8512-3a1f8267ce67",
   "metadata": {
    "tags": []
   },
   "source": [
    "##### Variáveis numéricas contínuas"
   ]
  },
  {
   "cell_type": "code",
   "execution_count": 17,
   "id": "203d20fb-ac5e-4d12-8b15-eac1b5cc0da1",
   "metadata": {},
   "outputs": [],
   "source": [
    "from sklearn.preprocessing import MinMaxScaler"
   ]
  },
  {
   "cell_type": "code",
   "execution_count": 18,
   "id": "265775d7-8e98-47fa-b853-b7e8af88e470",
   "metadata": {},
   "outputs": [],
   "source": [
    "# Instanciando o scaler\n",
    "scaler = MinMaxScaler()\n",
    "\n",
    "# Definindo as variaveis numericas continuas\n",
    "num_cont_cols = ['Age', 'Balance']\n",
    "\n",
    "# Treino do dimensionamento das variaveis\n",
    "scaler.fit(df_train[num_cont_cols])\n",
    "\n",
    "# Aplicando dimensionamento das variaveis\n",
    "df_train.loc[:, num_cont_cols] = scaler.transform(df_train[num_cont_cols])\n",
    "df_test.loc[:, num_cont_cols] = scaler.transform(df_test[num_cont_cols])"
   ]
  },
  {
   "cell_type": "code",
   "execution_count": 28,
   "id": "eee1fb0d-b5d8-45fd-812c-f52337248807",
   "metadata": {},
   "outputs": [
    {
     "data": {
      "text/html": [
       "<div>\n",
       "<style scoped>\n",
       "    .dataframe tbody tr th:only-of-type {\n",
       "        vertical-align: middle;\n",
       "    }\n",
       "\n",
       "    .dataframe tbody tr th {\n",
       "        vertical-align: top;\n",
       "    }\n",
       "\n",
       "    .dataframe thead th {\n",
       "        text-align: right;\n",
       "    }\n",
       "</style>\n",
       "<table border=\"1\" class=\"dataframe\">\n",
       "  <thead>\n",
       "    <tr style=\"text-align: right;\">\n",
       "      <th></th>\n",
       "      <th>Age</th>\n",
       "      <th>Income</th>\n",
       "      <th>Balance</th>\n",
       "      <th>Vintage</th>\n",
       "      <th>Transaction_Status</th>\n",
       "      <th>Product_Holdings</th>\n",
       "      <th>Credit_Card</th>\n",
       "      <th>Credit_Category</th>\n",
       "      <th>Is_Churn</th>\n",
       "      <th>Female</th>\n",
       "      <th>Male</th>\n",
       "    </tr>\n",
       "  </thead>\n",
       "  <tbody>\n",
       "    <tr>\n",
       "      <th>4393</th>\n",
       "      <td>0.529412</td>\n",
       "      <td>1</td>\n",
       "      <td>0.315408</td>\n",
       "      <td>4</td>\n",
       "      <td>0</td>\n",
       "      <td>2</td>\n",
       "      <td>1</td>\n",
       "      <td>2</td>\n",
       "      <td>1</td>\n",
       "      <td>0</td>\n",
       "      <td>1</td>\n",
       "    </tr>\n",
       "    <tr>\n",
       "      <th>4759</th>\n",
       "      <td>0.725490</td>\n",
       "      <td>2</td>\n",
       "      <td>0.583565</td>\n",
       "      <td>3</td>\n",
       "      <td>1</td>\n",
       "      <td>1</td>\n",
       "      <td>1</td>\n",
       "      <td>2</td>\n",
       "      <td>1</td>\n",
       "      <td>1</td>\n",
       "      <td>0</td>\n",
       "    </tr>\n",
       "    <tr>\n",
       "      <th>561</th>\n",
       "      <td>0.568627</td>\n",
       "      <td>1</td>\n",
       "      <td>0.888172</td>\n",
       "      <td>3</td>\n",
       "      <td>0</td>\n",
       "      <td>0</td>\n",
       "      <td>1</td>\n",
       "      <td>0</td>\n",
       "      <td>0</td>\n",
       "      <td>0</td>\n",
       "      <td>1</td>\n",
       "    </tr>\n",
       "    <tr>\n",
       "      <th>4494</th>\n",
       "      <td>0.078431</td>\n",
       "      <td>0</td>\n",
       "      <td>0.476183</td>\n",
       "      <td>3</td>\n",
       "      <td>1</td>\n",
       "      <td>0</td>\n",
       "      <td>0</td>\n",
       "      <td>1</td>\n",
       "      <td>0</td>\n",
       "      <td>1</td>\n",
       "      <td>0</td>\n",
       "    </tr>\n",
       "    <tr>\n",
       "      <th>1609</th>\n",
       "      <td>0.470588</td>\n",
       "      <td>1</td>\n",
       "      <td>0.027034</td>\n",
       "      <td>3</td>\n",
       "      <td>1</td>\n",
       "      <td>0</td>\n",
       "      <td>1</td>\n",
       "      <td>1</td>\n",
       "      <td>0</td>\n",
       "      <td>0</td>\n",
       "      <td>1</td>\n",
       "    </tr>\n",
       "  </tbody>\n",
       "</table>\n",
       "</div>"
      ],
      "text/plain": [
       "           Age  Income   Balance  Vintage  Transaction_Status  \\\n",
       "4393  0.529412       1  0.315408        4                   0   \n",
       "4759  0.725490       2  0.583565        3                   1   \n",
       "561   0.568627       1  0.888172        3                   0   \n",
       "4494  0.078431       0  0.476183        3                   1   \n",
       "1609  0.470588       1  0.027034        3                   1   \n",
       "\n",
       "      Product_Holdings  Credit_Card  Credit_Category  Is_Churn  Female  Male  \n",
       "4393                 2            1                2         1       0     1  \n",
       "4759                 1            1                2         1       1     0  \n",
       "561                  0            1                0         0       0     1  \n",
       "4494                 0            0                1         0       1     0  \n",
       "1609                 0            1                1         0       0     1  "
      ]
     },
     "execution_count": 28,
     "metadata": {},
     "output_type": "execute_result"
    }
   ],
   "source": [
    "df_train.sample(5)"
   ]
  },
  {
   "cell_type": "markdown",
   "id": "8eeed42c-6dae-423f-ba6a-bd2f3da4c457",
   "metadata": {
    "tags": []
   },
   "source": [
    "#### Reamostragem"
   ]
  },
  {
   "cell_type": "code",
   "execution_count": 19,
   "id": "38c76bfb-658f-49fb-abb4-e2f765c86302",
   "metadata": {},
   "outputs": [],
   "source": [
    "# Criando arrays das variáveis dependentes e da variavel alvo\n",
    "X_train = np.asarray(df_train.drop(columns=['Is_Churn']))\n",
    "y_train = np.asarray(df_train.Is_Churn)\n",
    "\n",
    "X_test = np.asarray(df_test.drop(columns=['Is_Churn']))\n",
    "y_test = np.asarray(df_test.Is_Churn)"
   ]
  },
  {
   "cell_type": "code",
   "execution_count": 20,
   "id": "6167c6dd-a3c5-4b59-9a20-9f0bacc96bb0",
   "metadata": {},
   "outputs": [],
   "source": [
    "from imblearn.under_sampling import RandomUnderSampler"
   ]
  },
  {
   "cell_type": "code",
   "execution_count": 21,
   "id": "7ea53306-bf68-41e0-b5e4-403ac80a20d3",
   "metadata": {},
   "outputs": [],
   "source": [
    "# Instanciando a classe de sub-amostragem\n",
    "undersample = RandomUnderSampler(sampling_strategy='majority')\n",
    "\n",
    "# Aplicando sub-amostragem da classe majoritária (0 : 'não churn')\n",
    "X_train, y_train = undersample.fit_resample(X_train, y_train)"
   ]
  },
  {
   "cell_type": "markdown",
   "id": "80494801-2911-4e48-a7a5-f47d1c8758d2",
   "metadata": {},
   "source": [
    "### Treinando o modelo"
   ]
  },
  {
   "cell_type": "code",
   "execution_count": 22,
   "id": "c1b83508-d05b-46cc-b3e6-7e854fcbb624",
   "metadata": {},
   "outputs": [],
   "source": [
    "# Importando metricas de avaliação do modelo\n",
    "from sklearn.metrics import accuracy_score\n",
    "from sklearn.metrics import f1_score"
   ]
  },
  {
   "cell_type": "code",
   "execution_count": 26,
   "id": "ce1bc8c1-73a5-4fdf-9b17-63038611e0e0",
   "metadata": {},
   "outputs": [
    {
     "name": "stdout",
     "output_type": "stream",
     "text": [
      "Treino\n",
      "accuracy_score: 0.57\n",
      "f1_score: 0.57\n",
      "Teste\n",
      "accuracy_score: 0.46\n",
      "f1_score: 0.31\n"
     ]
    }
   ],
   "source": [
    "# Instanciando o modelo criado\n",
    "my_lr = LogisticRegression(learning_rate=0.01, n_iterations=1000)\n",
    "\n",
    "# Realizando o treinamento\n",
    "my_lr.fit(X_train, y_train)\n",
    "\n",
    "# Salvando as estimativas geradas\n",
    "my_ypred_train = my_lr.predict(X_train)\n",
    "my_ypred_test = my_lr.predict(X_test)\n",
    "\n",
    "# Print das métricas de avaliação: Acurácia e F1 Score\n",
    "print(\"Treino\")\n",
    "print(\"accuracy_score:\", accuracy_score(y_train, my_ypred_train).round(2))\n",
    "print(\"f1_score:\", f1_score(y_train, my_ypred_train, average='macro').round(2))\n",
    "\n",
    "print(\"Teste\")\n",
    "# Print das métricas de avaliação: Acurácia e F1 Score\n",
    "print(\"accuracy_score:\", accuracy_score(y_test, my_ypred_test).round(2))\n",
    "print(\"f1_score:\", f1_score(y_test, my_ypred_test, average='macro').round(2))"
   ]
  },
  {
   "cell_type": "markdown",
   "id": "221b60d7-9dae-4f56-8277-62af3be4c093",
   "metadata": {},
   "source": [
    "Apesar de as metricas de avaliação das estimativas do modelo não serem muito altas, o exercício serviu para demonstrar o passo a passo da criação do algoritmo de classificação __Regressão Logistica__ e como é possível aplicá-lo para realizar a previsão de Churn."
   ]
  },
  {
   "cell_type": "markdown",
   "id": "543ba79c-93dd-468a-b42d-56bff4240fd1",
   "metadata": {},
   "source": [
    "#### Comparando o modelo com a Regressão Logistica do scikit learn"
   ]
  },
  {
   "cell_type": "code",
   "execution_count": 24,
   "id": "9f36b01f-33ba-42fb-bd44-726660809169",
   "metadata": {},
   "outputs": [],
   "source": [
    "from sklearn.linear_model import LogisticRegression as sk_LogisticRegression"
   ]
  },
  {
   "cell_type": "code",
   "execution_count": 27,
   "id": "308ed6eb-7bf9-4df1-a665-ea4ea4852555",
   "metadata": {},
   "outputs": [
    {
     "name": "stdout",
     "output_type": "stream",
     "text": [
      "Treino\n",
      "accuracy_score: 0.61\n",
      "f1_score: 0.61\n",
      "Teste\n",
      "accuracy_score: 0.42\n",
      "f1_score: 0.29\n"
     ]
    }
   ],
   "source": [
    "# Instanciando o modelo sk-learn\n",
    "sk_lr = sk_LogisticRegression(max_iter=1000)\n",
    "\n",
    "# Realizando o treinamento\n",
    "sk_lr.fit(X_train, y_train)\n",
    "\n",
    "# Salvando as estimativas geradas\n",
    "sk_ypred_train = sk_lr.predict(X_train)\n",
    "sk_ypred_test = sk_lr.predict(X_test)\n",
    "\n",
    "# Print das métricas de avaliação: Acurácia e F1 Score\n",
    "print(\"Treino\")\n",
    "print(\"accuracy_score:\", accuracy_score(y_train, sk_ypred_train).round(2))\n",
    "print(\"f1_score:\", f1_score(y_train, sk_ypred_train, average='macro').round(2))\n",
    "\n",
    "print(\"Teste\")\n",
    "# Print das métricas de avaliação: Acurácia e F1 Score\n",
    "print(\"accuracy_score:\", accuracy_score(y_test, sk_ypred_test).round(2))\n",
    "print(\"f1_score:\", f1_score(y_test, sk_ypred_test, average='macro').round(2))"
   ]
  },
  {
   "cell_type": "markdown",
   "id": "658f6df7-12d6-46a6-ada7-c81b377bdd03",
   "metadata": {},
   "source": [
    "Podemos ver que o modelo criado tem as métricas de avaliação bem próximas do modelo de Regressão Logistica do scikit learn."
   ]
  }
 ],
 "metadata": {
  "kernelspec": {
   "display_name": "Python 3 (ipykernel)",
   "language": "python",
   "name": "python3"
  },
  "language_info": {
   "codemirror_mode": {
    "name": "ipython",
    "version": 3
   },
   "file_extension": ".py",
   "mimetype": "text/x-python",
   "name": "python",
   "nbconvert_exporter": "python",
   "pygments_lexer": "ipython3",
   "version": "3.9.7"
  }
 },
 "nbformat": 4,
 "nbformat_minor": 5
}
